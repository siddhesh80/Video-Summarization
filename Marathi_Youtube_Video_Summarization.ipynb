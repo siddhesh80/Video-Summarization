{
  "nbformat": 4,
  "nbformat_minor": 0,
  "metadata": {
    "colab": {
      "provenance": [],
      "gpuType": "T4"
    },
    "kernelspec": {
      "name": "python3",
      "display_name": "Python 3"
    },
    "language_info": {
      "name": "python"
    },
    "accelerator": "GPU",
    "widgets": {
      "application/vnd.jupyter.widget-state+json": {
        "ec988f4192844d308688a1c2b39c267e": {
          "model_module": "@jupyter-widgets/controls",
          "model_name": "HBoxModel",
          "model_module_version": "1.5.0",
          "state": {
            "_dom_classes": [],
            "_model_module": "@jupyter-widgets/controls",
            "_model_module_version": "1.5.0",
            "_model_name": "HBoxModel",
            "_view_count": null,
            "_view_module": "@jupyter-widgets/controls",
            "_view_module_version": "1.5.0",
            "_view_name": "HBoxView",
            "box_style": "",
            "children": [
              "IPY_MODEL_f3b280dd360b4d2589328482dbddd759",
              "IPY_MODEL_92e0d6dc38064ecdbdfd489b386b3540",
              "IPY_MODEL_5619ece98ce54423918e04f36148fe76"
            ],
            "layout": "IPY_MODEL_1204543838d44747988d45b4390b9397"
          }
        },
        "f3b280dd360b4d2589328482dbddd759": {
          "model_module": "@jupyter-widgets/controls",
          "model_name": "HTMLModel",
          "model_module_version": "1.5.0",
          "state": {
            "_dom_classes": [],
            "_model_module": "@jupyter-widgets/controls",
            "_model_module_version": "1.5.0",
            "_model_name": "HTMLModel",
            "_view_count": null,
            "_view_module": "@jupyter-widgets/controls",
            "_view_module_version": "1.5.0",
            "_view_name": "HTMLView",
            "description": "",
            "description_tooltip": null,
            "layout": "IPY_MODEL_c89dfba1b4e141428b6cfb088038280f",
            "placeholder": "​",
            "style": "IPY_MODEL_82d483ee1d39493c87436c8252916d2d",
            "value": "Downloading (…)lve/main/config.json: 100%"
          }
        },
        "92e0d6dc38064ecdbdfd489b386b3540": {
          "model_module": "@jupyter-widgets/controls",
          "model_name": "FloatProgressModel",
          "model_module_version": "1.5.0",
          "state": {
            "_dom_classes": [],
            "_model_module": "@jupyter-widgets/controls",
            "_model_module_version": "1.5.0",
            "_model_name": "FloatProgressModel",
            "_view_count": null,
            "_view_module": "@jupyter-widgets/controls",
            "_view_module_version": "1.5.0",
            "_view_name": "ProgressView",
            "bar_style": "success",
            "description": "",
            "description_tooltip": null,
            "layout": "IPY_MODEL_223234c91a9645c18db9a9f4df36c097",
            "max": 1585,
            "min": 0,
            "orientation": "horizontal",
            "style": "IPY_MODEL_533b49faf5764107949dd6cdb7ac32d1",
            "value": 1585
          }
        },
        "5619ece98ce54423918e04f36148fe76": {
          "model_module": "@jupyter-widgets/controls",
          "model_name": "HTMLModel",
          "model_module_version": "1.5.0",
          "state": {
            "_dom_classes": [],
            "_model_module": "@jupyter-widgets/controls",
            "_model_module_version": "1.5.0",
            "_model_name": "HTMLModel",
            "_view_count": null,
            "_view_module": "@jupyter-widgets/controls",
            "_view_module_version": "1.5.0",
            "_view_name": "HTMLView",
            "description": "",
            "description_tooltip": null,
            "layout": "IPY_MODEL_54dade06dbc24307929431a0f13f75f4",
            "placeholder": "​",
            "style": "IPY_MODEL_7190c9f9bd0a403d831520ba0e681754",
            "value": " 1.58k/1.58k [00:00&lt;00:00, 53.9kB/s]"
          }
        },
        "1204543838d44747988d45b4390b9397": {
          "model_module": "@jupyter-widgets/base",
          "model_name": "LayoutModel",
          "model_module_version": "1.2.0",
          "state": {
            "_model_module": "@jupyter-widgets/base",
            "_model_module_version": "1.2.0",
            "_model_name": "LayoutModel",
            "_view_count": null,
            "_view_module": "@jupyter-widgets/base",
            "_view_module_version": "1.2.0",
            "_view_name": "LayoutView",
            "align_content": null,
            "align_items": null,
            "align_self": null,
            "border": null,
            "bottom": null,
            "display": null,
            "flex": null,
            "flex_flow": null,
            "grid_area": null,
            "grid_auto_columns": null,
            "grid_auto_flow": null,
            "grid_auto_rows": null,
            "grid_column": null,
            "grid_gap": null,
            "grid_row": null,
            "grid_template_areas": null,
            "grid_template_columns": null,
            "grid_template_rows": null,
            "height": null,
            "justify_content": null,
            "justify_items": null,
            "left": null,
            "margin": null,
            "max_height": null,
            "max_width": null,
            "min_height": null,
            "min_width": null,
            "object_fit": null,
            "object_position": null,
            "order": null,
            "overflow": null,
            "overflow_x": null,
            "overflow_y": null,
            "padding": null,
            "right": null,
            "top": null,
            "visibility": null,
            "width": null
          }
        },
        "c89dfba1b4e141428b6cfb088038280f": {
          "model_module": "@jupyter-widgets/base",
          "model_name": "LayoutModel",
          "model_module_version": "1.2.0",
          "state": {
            "_model_module": "@jupyter-widgets/base",
            "_model_module_version": "1.2.0",
            "_model_name": "LayoutModel",
            "_view_count": null,
            "_view_module": "@jupyter-widgets/base",
            "_view_module_version": "1.2.0",
            "_view_name": "LayoutView",
            "align_content": null,
            "align_items": null,
            "align_self": null,
            "border": null,
            "bottom": null,
            "display": null,
            "flex": null,
            "flex_flow": null,
            "grid_area": null,
            "grid_auto_columns": null,
            "grid_auto_flow": null,
            "grid_auto_rows": null,
            "grid_column": null,
            "grid_gap": null,
            "grid_row": null,
            "grid_template_areas": null,
            "grid_template_columns": null,
            "grid_template_rows": null,
            "height": null,
            "justify_content": null,
            "justify_items": null,
            "left": null,
            "margin": null,
            "max_height": null,
            "max_width": null,
            "min_height": null,
            "min_width": null,
            "object_fit": null,
            "object_position": null,
            "order": null,
            "overflow": null,
            "overflow_x": null,
            "overflow_y": null,
            "padding": null,
            "right": null,
            "top": null,
            "visibility": null,
            "width": null
          }
        },
        "82d483ee1d39493c87436c8252916d2d": {
          "model_module": "@jupyter-widgets/controls",
          "model_name": "DescriptionStyleModel",
          "model_module_version": "1.5.0",
          "state": {
            "_model_module": "@jupyter-widgets/controls",
            "_model_module_version": "1.5.0",
            "_model_name": "DescriptionStyleModel",
            "_view_count": null,
            "_view_module": "@jupyter-widgets/base",
            "_view_module_version": "1.2.0",
            "_view_name": "StyleView",
            "description_width": ""
          }
        },
        "223234c91a9645c18db9a9f4df36c097": {
          "model_module": "@jupyter-widgets/base",
          "model_name": "LayoutModel",
          "model_module_version": "1.2.0",
          "state": {
            "_model_module": "@jupyter-widgets/base",
            "_model_module_version": "1.2.0",
            "_model_name": "LayoutModel",
            "_view_count": null,
            "_view_module": "@jupyter-widgets/base",
            "_view_module_version": "1.2.0",
            "_view_name": "LayoutView",
            "align_content": null,
            "align_items": null,
            "align_self": null,
            "border": null,
            "bottom": null,
            "display": null,
            "flex": null,
            "flex_flow": null,
            "grid_area": null,
            "grid_auto_columns": null,
            "grid_auto_flow": null,
            "grid_auto_rows": null,
            "grid_column": null,
            "grid_gap": null,
            "grid_row": null,
            "grid_template_areas": null,
            "grid_template_columns": null,
            "grid_template_rows": null,
            "height": null,
            "justify_content": null,
            "justify_items": null,
            "left": null,
            "margin": null,
            "max_height": null,
            "max_width": null,
            "min_height": null,
            "min_width": null,
            "object_fit": null,
            "object_position": null,
            "order": null,
            "overflow": null,
            "overflow_x": null,
            "overflow_y": null,
            "padding": null,
            "right": null,
            "top": null,
            "visibility": null,
            "width": null
          }
        },
        "533b49faf5764107949dd6cdb7ac32d1": {
          "model_module": "@jupyter-widgets/controls",
          "model_name": "ProgressStyleModel",
          "model_module_version": "1.5.0",
          "state": {
            "_model_module": "@jupyter-widgets/controls",
            "_model_module_version": "1.5.0",
            "_model_name": "ProgressStyleModel",
            "_view_count": null,
            "_view_module": "@jupyter-widgets/base",
            "_view_module_version": "1.2.0",
            "_view_name": "StyleView",
            "bar_color": null,
            "description_width": ""
          }
        },
        "54dade06dbc24307929431a0f13f75f4": {
          "model_module": "@jupyter-widgets/base",
          "model_name": "LayoutModel",
          "model_module_version": "1.2.0",
          "state": {
            "_model_module": "@jupyter-widgets/base",
            "_model_module_version": "1.2.0",
            "_model_name": "LayoutModel",
            "_view_count": null,
            "_view_module": "@jupyter-widgets/base",
            "_view_module_version": "1.2.0",
            "_view_name": "LayoutView",
            "align_content": null,
            "align_items": null,
            "align_self": null,
            "border": null,
            "bottom": null,
            "display": null,
            "flex": null,
            "flex_flow": null,
            "grid_area": null,
            "grid_auto_columns": null,
            "grid_auto_flow": null,
            "grid_auto_rows": null,
            "grid_column": null,
            "grid_gap": null,
            "grid_row": null,
            "grid_template_areas": null,
            "grid_template_columns": null,
            "grid_template_rows": null,
            "height": null,
            "justify_content": null,
            "justify_items": null,
            "left": null,
            "margin": null,
            "max_height": null,
            "max_width": null,
            "min_height": null,
            "min_width": null,
            "object_fit": null,
            "object_position": null,
            "order": null,
            "overflow": null,
            "overflow_x": null,
            "overflow_y": null,
            "padding": null,
            "right": null,
            "top": null,
            "visibility": null,
            "width": null
          }
        },
        "7190c9f9bd0a403d831520ba0e681754": {
          "model_module": "@jupyter-widgets/controls",
          "model_name": "DescriptionStyleModel",
          "model_module_version": "1.5.0",
          "state": {
            "_model_module": "@jupyter-widgets/controls",
            "_model_module_version": "1.5.0",
            "_model_name": "DescriptionStyleModel",
            "_view_count": null,
            "_view_module": "@jupyter-widgets/base",
            "_view_module_version": "1.2.0",
            "_view_name": "StyleView",
            "description_width": ""
          }
        },
        "8223a55c1aa349aba0e0c58ffc135556": {
          "model_module": "@jupyter-widgets/controls",
          "model_name": "HBoxModel",
          "model_module_version": "1.5.0",
          "state": {
            "_dom_classes": [],
            "_model_module": "@jupyter-widgets/controls",
            "_model_module_version": "1.5.0",
            "_model_name": "HBoxModel",
            "_view_count": null,
            "_view_module": "@jupyter-widgets/controls",
            "_view_module_version": "1.5.0",
            "_view_name": "HBoxView",
            "box_style": "",
            "children": [
              "IPY_MODEL_3642948a65ae4e26a0a5141211b4c4a1",
              "IPY_MODEL_d63812ccd48c4f18b69ca7dcb8db2f36",
              "IPY_MODEL_7fe43657b820408d8398b97c6b8d9e3f"
            ],
            "layout": "IPY_MODEL_d3be69eb5760455e98edc70f1debd1ad"
          }
        },
        "3642948a65ae4e26a0a5141211b4c4a1": {
          "model_module": "@jupyter-widgets/controls",
          "model_name": "HTMLModel",
          "model_module_version": "1.5.0",
          "state": {
            "_dom_classes": [],
            "_model_module": "@jupyter-widgets/controls",
            "_model_module_version": "1.5.0",
            "_model_name": "HTMLModel",
            "_view_count": null,
            "_view_module": "@jupyter-widgets/controls",
            "_view_module_version": "1.5.0",
            "_view_name": "HTMLView",
            "description": "",
            "description_tooltip": null,
            "layout": "IPY_MODEL_51fa3f381f3a42618437854ff3594b7d",
            "placeholder": "​",
            "style": "IPY_MODEL_a03d8fc58e664f20b69df2e16890cbd7",
            "value": "Downloading pytorch_model.bin: 100%"
          }
        },
        "d63812ccd48c4f18b69ca7dcb8db2f36": {
          "model_module": "@jupyter-widgets/controls",
          "model_name": "FloatProgressModel",
          "model_module_version": "1.5.0",
          "state": {
            "_dom_classes": [],
            "_model_module": "@jupyter-widgets/controls",
            "_model_module_version": "1.5.0",
            "_model_name": "FloatProgressModel",
            "_view_count": null,
            "_view_module": "@jupyter-widgets/controls",
            "_view_module_version": "1.5.0",
            "_view_name": "ProgressView",
            "bar_style": "success",
            "description": "",
            "description_tooltip": null,
            "layout": "IPY_MODEL_e7e39ceeed9e4d299cba13dd97fe602c",
            "max": 1625270765,
            "min": 0,
            "orientation": "horizontal",
            "style": "IPY_MODEL_d4dff028fd414b388b534a7699760c6b",
            "value": 1625270765
          }
        },
        "7fe43657b820408d8398b97c6b8d9e3f": {
          "model_module": "@jupyter-widgets/controls",
          "model_name": "HTMLModel",
          "model_module_version": "1.5.0",
          "state": {
            "_dom_classes": [],
            "_model_module": "@jupyter-widgets/controls",
            "_model_module_version": "1.5.0",
            "_model_name": "HTMLModel",
            "_view_count": null,
            "_view_module": "@jupyter-widgets/controls",
            "_view_module_version": "1.5.0",
            "_view_name": "HTMLView",
            "description": "",
            "description_tooltip": null,
            "layout": "IPY_MODEL_fbb209035b424eef986cb5f703483d58",
            "placeholder": "​",
            "style": "IPY_MODEL_8220ed3c1df647f28b39487b9a5bd3ab",
            "value": " 1.63G/1.63G [00:15&lt;00:00, 135MB/s]"
          }
        },
        "d3be69eb5760455e98edc70f1debd1ad": {
          "model_module": "@jupyter-widgets/base",
          "model_name": "LayoutModel",
          "model_module_version": "1.2.0",
          "state": {
            "_model_module": "@jupyter-widgets/base",
            "_model_module_version": "1.2.0",
            "_model_name": "LayoutModel",
            "_view_count": null,
            "_view_module": "@jupyter-widgets/base",
            "_view_module_version": "1.2.0",
            "_view_name": "LayoutView",
            "align_content": null,
            "align_items": null,
            "align_self": null,
            "border": null,
            "bottom": null,
            "display": null,
            "flex": null,
            "flex_flow": null,
            "grid_area": null,
            "grid_auto_columns": null,
            "grid_auto_flow": null,
            "grid_auto_rows": null,
            "grid_column": null,
            "grid_gap": null,
            "grid_row": null,
            "grid_template_areas": null,
            "grid_template_columns": null,
            "grid_template_rows": null,
            "height": null,
            "justify_content": null,
            "justify_items": null,
            "left": null,
            "margin": null,
            "max_height": null,
            "max_width": null,
            "min_height": null,
            "min_width": null,
            "object_fit": null,
            "object_position": null,
            "order": null,
            "overflow": null,
            "overflow_x": null,
            "overflow_y": null,
            "padding": null,
            "right": null,
            "top": null,
            "visibility": null,
            "width": null
          }
        },
        "51fa3f381f3a42618437854ff3594b7d": {
          "model_module": "@jupyter-widgets/base",
          "model_name": "LayoutModel",
          "model_module_version": "1.2.0",
          "state": {
            "_model_module": "@jupyter-widgets/base",
            "_model_module_version": "1.2.0",
            "_model_name": "LayoutModel",
            "_view_count": null,
            "_view_module": "@jupyter-widgets/base",
            "_view_module_version": "1.2.0",
            "_view_name": "LayoutView",
            "align_content": null,
            "align_items": null,
            "align_self": null,
            "border": null,
            "bottom": null,
            "display": null,
            "flex": null,
            "flex_flow": null,
            "grid_area": null,
            "grid_auto_columns": null,
            "grid_auto_flow": null,
            "grid_auto_rows": null,
            "grid_column": null,
            "grid_gap": null,
            "grid_row": null,
            "grid_template_areas": null,
            "grid_template_columns": null,
            "grid_template_rows": null,
            "height": null,
            "justify_content": null,
            "justify_items": null,
            "left": null,
            "margin": null,
            "max_height": null,
            "max_width": null,
            "min_height": null,
            "min_width": null,
            "object_fit": null,
            "object_position": null,
            "order": null,
            "overflow": null,
            "overflow_x": null,
            "overflow_y": null,
            "padding": null,
            "right": null,
            "top": null,
            "visibility": null,
            "width": null
          }
        },
        "a03d8fc58e664f20b69df2e16890cbd7": {
          "model_module": "@jupyter-widgets/controls",
          "model_name": "DescriptionStyleModel",
          "model_module_version": "1.5.0",
          "state": {
            "_model_module": "@jupyter-widgets/controls",
            "_model_module_version": "1.5.0",
            "_model_name": "DescriptionStyleModel",
            "_view_count": null,
            "_view_module": "@jupyter-widgets/base",
            "_view_module_version": "1.2.0",
            "_view_name": "StyleView",
            "description_width": ""
          }
        },
        "e7e39ceeed9e4d299cba13dd97fe602c": {
          "model_module": "@jupyter-widgets/base",
          "model_name": "LayoutModel",
          "model_module_version": "1.2.0",
          "state": {
            "_model_module": "@jupyter-widgets/base",
            "_model_module_version": "1.2.0",
            "_model_name": "LayoutModel",
            "_view_count": null,
            "_view_module": "@jupyter-widgets/base",
            "_view_module_version": "1.2.0",
            "_view_name": "LayoutView",
            "align_content": null,
            "align_items": null,
            "align_self": null,
            "border": null,
            "bottom": null,
            "display": null,
            "flex": null,
            "flex_flow": null,
            "grid_area": null,
            "grid_auto_columns": null,
            "grid_auto_flow": null,
            "grid_auto_rows": null,
            "grid_column": null,
            "grid_gap": null,
            "grid_row": null,
            "grid_template_areas": null,
            "grid_template_columns": null,
            "grid_template_rows": null,
            "height": null,
            "justify_content": null,
            "justify_items": null,
            "left": null,
            "margin": null,
            "max_height": null,
            "max_width": null,
            "min_height": null,
            "min_width": null,
            "object_fit": null,
            "object_position": null,
            "order": null,
            "overflow": null,
            "overflow_x": null,
            "overflow_y": null,
            "padding": null,
            "right": null,
            "top": null,
            "visibility": null,
            "width": null
          }
        },
        "d4dff028fd414b388b534a7699760c6b": {
          "model_module": "@jupyter-widgets/controls",
          "model_name": "ProgressStyleModel",
          "model_module_version": "1.5.0",
          "state": {
            "_model_module": "@jupyter-widgets/controls",
            "_model_module_version": "1.5.0",
            "_model_name": "ProgressStyleModel",
            "_view_count": null,
            "_view_module": "@jupyter-widgets/base",
            "_view_module_version": "1.2.0",
            "_view_name": "StyleView",
            "bar_color": null,
            "description_width": ""
          }
        },
        "fbb209035b424eef986cb5f703483d58": {
          "model_module": "@jupyter-widgets/base",
          "model_name": "LayoutModel",
          "model_module_version": "1.2.0",
          "state": {
            "_model_module": "@jupyter-widgets/base",
            "_model_module_version": "1.2.0",
            "_model_name": "LayoutModel",
            "_view_count": null,
            "_view_module": "@jupyter-widgets/base",
            "_view_module_version": "1.2.0",
            "_view_name": "LayoutView",
            "align_content": null,
            "align_items": null,
            "align_self": null,
            "border": null,
            "bottom": null,
            "display": null,
            "flex": null,
            "flex_flow": null,
            "grid_area": null,
            "grid_auto_columns": null,
            "grid_auto_flow": null,
            "grid_auto_rows": null,
            "grid_column": null,
            "grid_gap": null,
            "grid_row": null,
            "grid_template_areas": null,
            "grid_template_columns": null,
            "grid_template_rows": null,
            "height": null,
            "justify_content": null,
            "justify_items": null,
            "left": null,
            "margin": null,
            "max_height": null,
            "max_width": null,
            "min_height": null,
            "min_width": null,
            "object_fit": null,
            "object_position": null,
            "order": null,
            "overflow": null,
            "overflow_x": null,
            "overflow_y": null,
            "padding": null,
            "right": null,
            "top": null,
            "visibility": null,
            "width": null
          }
        },
        "8220ed3c1df647f28b39487b9a5bd3ab": {
          "model_module": "@jupyter-widgets/controls",
          "model_name": "DescriptionStyleModel",
          "model_module_version": "1.5.0",
          "state": {
            "_model_module": "@jupyter-widgets/controls",
            "_model_module_version": "1.5.0",
            "_model_name": "DescriptionStyleModel",
            "_view_count": null,
            "_view_module": "@jupyter-widgets/base",
            "_view_module_version": "1.2.0",
            "_view_name": "StyleView",
            "description_width": ""
          }
        },
        "30264e43395547df851d448a418f999b": {
          "model_module": "@jupyter-widgets/controls",
          "model_name": "HBoxModel",
          "model_module_version": "1.5.0",
          "state": {
            "_dom_classes": [],
            "_model_module": "@jupyter-widgets/controls",
            "_model_module_version": "1.5.0",
            "_model_name": "HBoxModel",
            "_view_count": null,
            "_view_module": "@jupyter-widgets/controls",
            "_view_module_version": "1.5.0",
            "_view_name": "HBoxView",
            "box_style": "",
            "children": [
              "IPY_MODEL_f653beb2026e45b4b1d665b30a920c03",
              "IPY_MODEL_2b4e4f28115a40cea6952c99bb2dc22e",
              "IPY_MODEL_35cc628baa6c41e38ee4ffa9fb017e77"
            ],
            "layout": "IPY_MODEL_a34b8b7ff2c642e3b70e820640d66b90"
          }
        },
        "f653beb2026e45b4b1d665b30a920c03": {
          "model_module": "@jupyter-widgets/controls",
          "model_name": "HTMLModel",
          "model_module_version": "1.5.0",
          "state": {
            "_dom_classes": [],
            "_model_module": "@jupyter-widgets/controls",
            "_model_module_version": "1.5.0",
            "_model_name": "HTMLModel",
            "_view_count": null,
            "_view_module": "@jupyter-widgets/controls",
            "_view_module_version": "1.5.0",
            "_view_name": "HTMLView",
            "description": "",
            "description_tooltip": null,
            "layout": "IPY_MODEL_75dae8f4d888419cb8c425fc8cb30fe9",
            "placeholder": "​",
            "style": "IPY_MODEL_c92f2274649745e1af5e3347218ef87c",
            "value": "Downloading (…)neration_config.json: 100%"
          }
        },
        "2b4e4f28115a40cea6952c99bb2dc22e": {
          "model_module": "@jupyter-widgets/controls",
          "model_name": "FloatProgressModel",
          "model_module_version": "1.5.0",
          "state": {
            "_dom_classes": [],
            "_model_module": "@jupyter-widgets/controls",
            "_model_module_version": "1.5.0",
            "_model_name": "FloatProgressModel",
            "_view_count": null,
            "_view_module": "@jupyter-widgets/controls",
            "_view_module_version": "1.5.0",
            "_view_name": "ProgressView",
            "bar_style": "success",
            "description": "",
            "description_tooltip": null,
            "layout": "IPY_MODEL_21ccfbf8aba441b0bfce5064dc82647a",
            "max": 363,
            "min": 0,
            "orientation": "horizontal",
            "style": "IPY_MODEL_fcaa68eb70a84aadb80498b888184a41",
            "value": 363
          }
        },
        "35cc628baa6c41e38ee4ffa9fb017e77": {
          "model_module": "@jupyter-widgets/controls",
          "model_name": "HTMLModel",
          "model_module_version": "1.5.0",
          "state": {
            "_dom_classes": [],
            "_model_module": "@jupyter-widgets/controls",
            "_model_module_version": "1.5.0",
            "_model_name": "HTMLModel",
            "_view_count": null,
            "_view_module": "@jupyter-widgets/controls",
            "_view_module_version": "1.5.0",
            "_view_name": "HTMLView",
            "description": "",
            "description_tooltip": null,
            "layout": "IPY_MODEL_30f62b5286bc4fa99bfb660f6157040d",
            "placeholder": "​",
            "style": "IPY_MODEL_971911456c2b4bd194a1a7212ced86ea",
            "value": " 363/363 [00:00&lt;00:00, 22.4kB/s]"
          }
        },
        "a34b8b7ff2c642e3b70e820640d66b90": {
          "model_module": "@jupyter-widgets/base",
          "model_name": "LayoutModel",
          "model_module_version": "1.2.0",
          "state": {
            "_model_module": "@jupyter-widgets/base",
            "_model_module_version": "1.2.0",
            "_model_name": "LayoutModel",
            "_view_count": null,
            "_view_module": "@jupyter-widgets/base",
            "_view_module_version": "1.2.0",
            "_view_name": "LayoutView",
            "align_content": null,
            "align_items": null,
            "align_self": null,
            "border": null,
            "bottom": null,
            "display": null,
            "flex": null,
            "flex_flow": null,
            "grid_area": null,
            "grid_auto_columns": null,
            "grid_auto_flow": null,
            "grid_auto_rows": null,
            "grid_column": null,
            "grid_gap": null,
            "grid_row": null,
            "grid_template_areas": null,
            "grid_template_columns": null,
            "grid_template_rows": null,
            "height": null,
            "justify_content": null,
            "justify_items": null,
            "left": null,
            "margin": null,
            "max_height": null,
            "max_width": null,
            "min_height": null,
            "min_width": null,
            "object_fit": null,
            "object_position": null,
            "order": null,
            "overflow": null,
            "overflow_x": null,
            "overflow_y": null,
            "padding": null,
            "right": null,
            "top": null,
            "visibility": null,
            "width": null
          }
        },
        "75dae8f4d888419cb8c425fc8cb30fe9": {
          "model_module": "@jupyter-widgets/base",
          "model_name": "LayoutModel",
          "model_module_version": "1.2.0",
          "state": {
            "_model_module": "@jupyter-widgets/base",
            "_model_module_version": "1.2.0",
            "_model_name": "LayoutModel",
            "_view_count": null,
            "_view_module": "@jupyter-widgets/base",
            "_view_module_version": "1.2.0",
            "_view_name": "LayoutView",
            "align_content": null,
            "align_items": null,
            "align_self": null,
            "border": null,
            "bottom": null,
            "display": null,
            "flex": null,
            "flex_flow": null,
            "grid_area": null,
            "grid_auto_columns": null,
            "grid_auto_flow": null,
            "grid_auto_rows": null,
            "grid_column": null,
            "grid_gap": null,
            "grid_row": null,
            "grid_template_areas": null,
            "grid_template_columns": null,
            "grid_template_rows": null,
            "height": null,
            "justify_content": null,
            "justify_items": null,
            "left": null,
            "margin": null,
            "max_height": null,
            "max_width": null,
            "min_height": null,
            "min_width": null,
            "object_fit": null,
            "object_position": null,
            "order": null,
            "overflow": null,
            "overflow_x": null,
            "overflow_y": null,
            "padding": null,
            "right": null,
            "top": null,
            "visibility": null,
            "width": null
          }
        },
        "c92f2274649745e1af5e3347218ef87c": {
          "model_module": "@jupyter-widgets/controls",
          "model_name": "DescriptionStyleModel",
          "model_module_version": "1.5.0",
          "state": {
            "_model_module": "@jupyter-widgets/controls",
            "_model_module_version": "1.5.0",
            "_model_name": "DescriptionStyleModel",
            "_view_count": null,
            "_view_module": "@jupyter-widgets/base",
            "_view_module_version": "1.2.0",
            "_view_name": "StyleView",
            "description_width": ""
          }
        },
        "21ccfbf8aba441b0bfce5064dc82647a": {
          "model_module": "@jupyter-widgets/base",
          "model_name": "LayoutModel",
          "model_module_version": "1.2.0",
          "state": {
            "_model_module": "@jupyter-widgets/base",
            "_model_module_version": "1.2.0",
            "_model_name": "LayoutModel",
            "_view_count": null,
            "_view_module": "@jupyter-widgets/base",
            "_view_module_version": "1.2.0",
            "_view_name": "LayoutView",
            "align_content": null,
            "align_items": null,
            "align_self": null,
            "border": null,
            "bottom": null,
            "display": null,
            "flex": null,
            "flex_flow": null,
            "grid_area": null,
            "grid_auto_columns": null,
            "grid_auto_flow": null,
            "grid_auto_rows": null,
            "grid_column": null,
            "grid_gap": null,
            "grid_row": null,
            "grid_template_areas": null,
            "grid_template_columns": null,
            "grid_template_rows": null,
            "height": null,
            "justify_content": null,
            "justify_items": null,
            "left": null,
            "margin": null,
            "max_height": null,
            "max_width": null,
            "min_height": null,
            "min_width": null,
            "object_fit": null,
            "object_position": null,
            "order": null,
            "overflow": null,
            "overflow_x": null,
            "overflow_y": null,
            "padding": null,
            "right": null,
            "top": null,
            "visibility": null,
            "width": null
          }
        },
        "fcaa68eb70a84aadb80498b888184a41": {
          "model_module": "@jupyter-widgets/controls",
          "model_name": "ProgressStyleModel",
          "model_module_version": "1.5.0",
          "state": {
            "_model_module": "@jupyter-widgets/controls",
            "_model_module_version": "1.5.0",
            "_model_name": "ProgressStyleModel",
            "_view_count": null,
            "_view_module": "@jupyter-widgets/base",
            "_view_module_version": "1.2.0",
            "_view_name": "StyleView",
            "bar_color": null,
            "description_width": ""
          }
        },
        "30f62b5286bc4fa99bfb660f6157040d": {
          "model_module": "@jupyter-widgets/base",
          "model_name": "LayoutModel",
          "model_module_version": "1.2.0",
          "state": {
            "_model_module": "@jupyter-widgets/base",
            "_model_module_version": "1.2.0",
            "_model_name": "LayoutModel",
            "_view_count": null,
            "_view_module": "@jupyter-widgets/base",
            "_view_module_version": "1.2.0",
            "_view_name": "LayoutView",
            "align_content": null,
            "align_items": null,
            "align_self": null,
            "border": null,
            "bottom": null,
            "display": null,
            "flex": null,
            "flex_flow": null,
            "grid_area": null,
            "grid_auto_columns": null,
            "grid_auto_flow": null,
            "grid_auto_rows": null,
            "grid_column": null,
            "grid_gap": null,
            "grid_row": null,
            "grid_template_areas": null,
            "grid_template_columns": null,
            "grid_template_rows": null,
            "height": null,
            "justify_content": null,
            "justify_items": null,
            "left": null,
            "margin": null,
            "max_height": null,
            "max_width": null,
            "min_height": null,
            "min_width": null,
            "object_fit": null,
            "object_position": null,
            "order": null,
            "overflow": null,
            "overflow_x": null,
            "overflow_y": null,
            "padding": null,
            "right": null,
            "top": null,
            "visibility": null,
            "width": null
          }
        },
        "971911456c2b4bd194a1a7212ced86ea": {
          "model_module": "@jupyter-widgets/controls",
          "model_name": "DescriptionStyleModel",
          "model_module_version": "1.5.0",
          "state": {
            "_model_module": "@jupyter-widgets/controls",
            "_model_module_version": "1.5.0",
            "_model_name": "DescriptionStyleModel",
            "_view_count": null,
            "_view_module": "@jupyter-widgets/base",
            "_view_module_version": "1.2.0",
            "_view_name": "StyleView",
            "description_width": ""
          }
        },
        "23965e070d374207a525f6f7f363da24": {
          "model_module": "@jupyter-widgets/controls",
          "model_name": "HBoxModel",
          "model_module_version": "1.5.0",
          "state": {
            "_dom_classes": [],
            "_model_module": "@jupyter-widgets/controls",
            "_model_module_version": "1.5.0",
            "_model_name": "HBoxModel",
            "_view_count": null,
            "_view_module": "@jupyter-widgets/controls",
            "_view_module_version": "1.5.0",
            "_view_name": "HBoxView",
            "box_style": "",
            "children": [
              "IPY_MODEL_658a0f5f131e488d83774216908a71bc",
              "IPY_MODEL_3f268fbbd3f04ab2a1d7d3557a050b94",
              "IPY_MODEL_f57abb0fc4bc426c9779d09bc40f5b10"
            ],
            "layout": "IPY_MODEL_2483c427764342faac31d36f6bfe50c0"
          }
        },
        "658a0f5f131e488d83774216908a71bc": {
          "model_module": "@jupyter-widgets/controls",
          "model_name": "HTMLModel",
          "model_module_version": "1.5.0",
          "state": {
            "_dom_classes": [],
            "_model_module": "@jupyter-widgets/controls",
            "_model_module_version": "1.5.0",
            "_model_name": "HTMLModel",
            "_view_count": null,
            "_view_module": "@jupyter-widgets/controls",
            "_view_module_version": "1.5.0",
            "_view_name": "HTMLView",
            "description": "",
            "description_tooltip": null,
            "layout": "IPY_MODEL_c2738e6b7cac4403918d06af91c5d014",
            "placeholder": "​",
            "style": "IPY_MODEL_88b75eedcf904a78961aef43154f7202",
            "value": "Downloading (…)olve/main/vocab.json: 100%"
          }
        },
        "3f268fbbd3f04ab2a1d7d3557a050b94": {
          "model_module": "@jupyter-widgets/controls",
          "model_name": "FloatProgressModel",
          "model_module_version": "1.5.0",
          "state": {
            "_dom_classes": [],
            "_model_module": "@jupyter-widgets/controls",
            "_model_module_version": "1.5.0",
            "_model_name": "FloatProgressModel",
            "_view_count": null,
            "_view_module": "@jupyter-widgets/controls",
            "_view_module_version": "1.5.0",
            "_view_name": "ProgressView",
            "bar_style": "success",
            "description": "",
            "description_tooltip": null,
            "layout": "IPY_MODEL_dbdc611996a647ba80e8009b4b60eef1",
            "max": 898823,
            "min": 0,
            "orientation": "horizontal",
            "style": "IPY_MODEL_9c1e022a712b4050bb5ff09b58a18dc6",
            "value": 898823
          }
        },
        "f57abb0fc4bc426c9779d09bc40f5b10": {
          "model_module": "@jupyter-widgets/controls",
          "model_name": "HTMLModel",
          "model_module_version": "1.5.0",
          "state": {
            "_dom_classes": [],
            "_model_module": "@jupyter-widgets/controls",
            "_model_module_version": "1.5.0",
            "_model_name": "HTMLModel",
            "_view_count": null,
            "_view_module": "@jupyter-widgets/controls",
            "_view_module_version": "1.5.0",
            "_view_name": "HTMLView",
            "description": "",
            "description_tooltip": null,
            "layout": "IPY_MODEL_1fb0352ec9544854a980995bffb34601",
            "placeholder": "​",
            "style": "IPY_MODEL_5e2195f80ef84a52aa9d83242d4c33a2",
            "value": " 899k/899k [00:00&lt;00:00, 10.2MB/s]"
          }
        },
        "2483c427764342faac31d36f6bfe50c0": {
          "model_module": "@jupyter-widgets/base",
          "model_name": "LayoutModel",
          "model_module_version": "1.2.0",
          "state": {
            "_model_module": "@jupyter-widgets/base",
            "_model_module_version": "1.2.0",
            "_model_name": "LayoutModel",
            "_view_count": null,
            "_view_module": "@jupyter-widgets/base",
            "_view_module_version": "1.2.0",
            "_view_name": "LayoutView",
            "align_content": null,
            "align_items": null,
            "align_self": null,
            "border": null,
            "bottom": null,
            "display": null,
            "flex": null,
            "flex_flow": null,
            "grid_area": null,
            "grid_auto_columns": null,
            "grid_auto_flow": null,
            "grid_auto_rows": null,
            "grid_column": null,
            "grid_gap": null,
            "grid_row": null,
            "grid_template_areas": null,
            "grid_template_columns": null,
            "grid_template_rows": null,
            "height": null,
            "justify_content": null,
            "justify_items": null,
            "left": null,
            "margin": null,
            "max_height": null,
            "max_width": null,
            "min_height": null,
            "min_width": null,
            "object_fit": null,
            "object_position": null,
            "order": null,
            "overflow": null,
            "overflow_x": null,
            "overflow_y": null,
            "padding": null,
            "right": null,
            "top": null,
            "visibility": null,
            "width": null
          }
        },
        "c2738e6b7cac4403918d06af91c5d014": {
          "model_module": "@jupyter-widgets/base",
          "model_name": "LayoutModel",
          "model_module_version": "1.2.0",
          "state": {
            "_model_module": "@jupyter-widgets/base",
            "_model_module_version": "1.2.0",
            "_model_name": "LayoutModel",
            "_view_count": null,
            "_view_module": "@jupyter-widgets/base",
            "_view_module_version": "1.2.0",
            "_view_name": "LayoutView",
            "align_content": null,
            "align_items": null,
            "align_self": null,
            "border": null,
            "bottom": null,
            "display": null,
            "flex": null,
            "flex_flow": null,
            "grid_area": null,
            "grid_auto_columns": null,
            "grid_auto_flow": null,
            "grid_auto_rows": null,
            "grid_column": null,
            "grid_gap": null,
            "grid_row": null,
            "grid_template_areas": null,
            "grid_template_columns": null,
            "grid_template_rows": null,
            "height": null,
            "justify_content": null,
            "justify_items": null,
            "left": null,
            "margin": null,
            "max_height": null,
            "max_width": null,
            "min_height": null,
            "min_width": null,
            "object_fit": null,
            "object_position": null,
            "order": null,
            "overflow": null,
            "overflow_x": null,
            "overflow_y": null,
            "padding": null,
            "right": null,
            "top": null,
            "visibility": null,
            "width": null
          }
        },
        "88b75eedcf904a78961aef43154f7202": {
          "model_module": "@jupyter-widgets/controls",
          "model_name": "DescriptionStyleModel",
          "model_module_version": "1.5.0",
          "state": {
            "_model_module": "@jupyter-widgets/controls",
            "_model_module_version": "1.5.0",
            "_model_name": "DescriptionStyleModel",
            "_view_count": null,
            "_view_module": "@jupyter-widgets/base",
            "_view_module_version": "1.2.0",
            "_view_name": "StyleView",
            "description_width": ""
          }
        },
        "dbdc611996a647ba80e8009b4b60eef1": {
          "model_module": "@jupyter-widgets/base",
          "model_name": "LayoutModel",
          "model_module_version": "1.2.0",
          "state": {
            "_model_module": "@jupyter-widgets/base",
            "_model_module_version": "1.2.0",
            "_model_name": "LayoutModel",
            "_view_count": null,
            "_view_module": "@jupyter-widgets/base",
            "_view_module_version": "1.2.0",
            "_view_name": "LayoutView",
            "align_content": null,
            "align_items": null,
            "align_self": null,
            "border": null,
            "bottom": null,
            "display": null,
            "flex": null,
            "flex_flow": null,
            "grid_area": null,
            "grid_auto_columns": null,
            "grid_auto_flow": null,
            "grid_auto_rows": null,
            "grid_column": null,
            "grid_gap": null,
            "grid_row": null,
            "grid_template_areas": null,
            "grid_template_columns": null,
            "grid_template_rows": null,
            "height": null,
            "justify_content": null,
            "justify_items": null,
            "left": null,
            "margin": null,
            "max_height": null,
            "max_width": null,
            "min_height": null,
            "min_width": null,
            "object_fit": null,
            "object_position": null,
            "order": null,
            "overflow": null,
            "overflow_x": null,
            "overflow_y": null,
            "padding": null,
            "right": null,
            "top": null,
            "visibility": null,
            "width": null
          }
        },
        "9c1e022a712b4050bb5ff09b58a18dc6": {
          "model_module": "@jupyter-widgets/controls",
          "model_name": "ProgressStyleModel",
          "model_module_version": "1.5.0",
          "state": {
            "_model_module": "@jupyter-widgets/controls",
            "_model_module_version": "1.5.0",
            "_model_name": "ProgressStyleModel",
            "_view_count": null,
            "_view_module": "@jupyter-widgets/base",
            "_view_module_version": "1.2.0",
            "_view_name": "StyleView",
            "bar_color": null,
            "description_width": ""
          }
        },
        "1fb0352ec9544854a980995bffb34601": {
          "model_module": "@jupyter-widgets/base",
          "model_name": "LayoutModel",
          "model_module_version": "1.2.0",
          "state": {
            "_model_module": "@jupyter-widgets/base",
            "_model_module_version": "1.2.0",
            "_model_name": "LayoutModel",
            "_view_count": null,
            "_view_module": "@jupyter-widgets/base",
            "_view_module_version": "1.2.0",
            "_view_name": "LayoutView",
            "align_content": null,
            "align_items": null,
            "align_self": null,
            "border": null,
            "bottom": null,
            "display": null,
            "flex": null,
            "flex_flow": null,
            "grid_area": null,
            "grid_auto_columns": null,
            "grid_auto_flow": null,
            "grid_auto_rows": null,
            "grid_column": null,
            "grid_gap": null,
            "grid_row": null,
            "grid_template_areas": null,
            "grid_template_columns": null,
            "grid_template_rows": null,
            "height": null,
            "justify_content": null,
            "justify_items": null,
            "left": null,
            "margin": null,
            "max_height": null,
            "max_width": null,
            "min_height": null,
            "min_width": null,
            "object_fit": null,
            "object_position": null,
            "order": null,
            "overflow": null,
            "overflow_x": null,
            "overflow_y": null,
            "padding": null,
            "right": null,
            "top": null,
            "visibility": null,
            "width": null
          }
        },
        "5e2195f80ef84a52aa9d83242d4c33a2": {
          "model_module": "@jupyter-widgets/controls",
          "model_name": "DescriptionStyleModel",
          "model_module_version": "1.5.0",
          "state": {
            "_model_module": "@jupyter-widgets/controls",
            "_model_module_version": "1.5.0",
            "_model_name": "DescriptionStyleModel",
            "_view_count": null,
            "_view_module": "@jupyter-widgets/base",
            "_view_module_version": "1.2.0",
            "_view_name": "StyleView",
            "description_width": ""
          }
        },
        "56c32802a72f48f59357b1f49d088879": {
          "model_module": "@jupyter-widgets/controls",
          "model_name": "HBoxModel",
          "model_module_version": "1.5.0",
          "state": {
            "_dom_classes": [],
            "_model_module": "@jupyter-widgets/controls",
            "_model_module_version": "1.5.0",
            "_model_name": "HBoxModel",
            "_view_count": null,
            "_view_module": "@jupyter-widgets/controls",
            "_view_module_version": "1.5.0",
            "_view_name": "HBoxView",
            "box_style": "",
            "children": [
              "IPY_MODEL_9525f63d75104525bc7be96c4c8bb630",
              "IPY_MODEL_f6ea913c62f14b0f8e4fb4574f381710",
              "IPY_MODEL_7f8e193f916d4b8fb80bdb5d90d1c8f0"
            ],
            "layout": "IPY_MODEL_e1388eca75754d678c004f77e231c388"
          }
        },
        "9525f63d75104525bc7be96c4c8bb630": {
          "model_module": "@jupyter-widgets/controls",
          "model_name": "HTMLModel",
          "model_module_version": "1.5.0",
          "state": {
            "_dom_classes": [],
            "_model_module": "@jupyter-widgets/controls",
            "_model_module_version": "1.5.0",
            "_model_name": "HTMLModel",
            "_view_count": null,
            "_view_module": "@jupyter-widgets/controls",
            "_view_module_version": "1.5.0",
            "_view_name": "HTMLView",
            "description": "",
            "description_tooltip": null,
            "layout": "IPY_MODEL_e04fb50381ab441780868a3365095321",
            "placeholder": "​",
            "style": "IPY_MODEL_f4839ee8c31542d2bdd33039ef39b96c",
            "value": "Downloading (…)olve/main/merges.txt: 100%"
          }
        },
        "f6ea913c62f14b0f8e4fb4574f381710": {
          "model_module": "@jupyter-widgets/controls",
          "model_name": "FloatProgressModel",
          "model_module_version": "1.5.0",
          "state": {
            "_dom_classes": [],
            "_model_module": "@jupyter-widgets/controls",
            "_model_module_version": "1.5.0",
            "_model_name": "FloatProgressModel",
            "_view_count": null,
            "_view_module": "@jupyter-widgets/controls",
            "_view_module_version": "1.5.0",
            "_view_name": "ProgressView",
            "bar_style": "success",
            "description": "",
            "description_tooltip": null,
            "layout": "IPY_MODEL_21c61a50ef9240328cab0c18310c5e28",
            "max": 456318,
            "min": 0,
            "orientation": "horizontal",
            "style": "IPY_MODEL_3743d1ea2474491ea8176e1203f116bb",
            "value": 456318
          }
        },
        "7f8e193f916d4b8fb80bdb5d90d1c8f0": {
          "model_module": "@jupyter-widgets/controls",
          "model_name": "HTMLModel",
          "model_module_version": "1.5.0",
          "state": {
            "_dom_classes": [],
            "_model_module": "@jupyter-widgets/controls",
            "_model_module_version": "1.5.0",
            "_model_name": "HTMLModel",
            "_view_count": null,
            "_view_module": "@jupyter-widgets/controls",
            "_view_module_version": "1.5.0",
            "_view_name": "HTMLView",
            "description": "",
            "description_tooltip": null,
            "layout": "IPY_MODEL_9745c7688c6a46d281bea82585267986",
            "placeholder": "​",
            "style": "IPY_MODEL_e907123f2a944ca1a284f1ee4d85ba14",
            "value": " 456k/456k [00:00&lt;00:00, 17.8MB/s]"
          }
        },
        "e1388eca75754d678c004f77e231c388": {
          "model_module": "@jupyter-widgets/base",
          "model_name": "LayoutModel",
          "model_module_version": "1.2.0",
          "state": {
            "_model_module": "@jupyter-widgets/base",
            "_model_module_version": "1.2.0",
            "_model_name": "LayoutModel",
            "_view_count": null,
            "_view_module": "@jupyter-widgets/base",
            "_view_module_version": "1.2.0",
            "_view_name": "LayoutView",
            "align_content": null,
            "align_items": null,
            "align_self": null,
            "border": null,
            "bottom": null,
            "display": null,
            "flex": null,
            "flex_flow": null,
            "grid_area": null,
            "grid_auto_columns": null,
            "grid_auto_flow": null,
            "grid_auto_rows": null,
            "grid_column": null,
            "grid_gap": null,
            "grid_row": null,
            "grid_template_areas": null,
            "grid_template_columns": null,
            "grid_template_rows": null,
            "height": null,
            "justify_content": null,
            "justify_items": null,
            "left": null,
            "margin": null,
            "max_height": null,
            "max_width": null,
            "min_height": null,
            "min_width": null,
            "object_fit": null,
            "object_position": null,
            "order": null,
            "overflow": null,
            "overflow_x": null,
            "overflow_y": null,
            "padding": null,
            "right": null,
            "top": null,
            "visibility": null,
            "width": null
          }
        },
        "e04fb50381ab441780868a3365095321": {
          "model_module": "@jupyter-widgets/base",
          "model_name": "LayoutModel",
          "model_module_version": "1.2.0",
          "state": {
            "_model_module": "@jupyter-widgets/base",
            "_model_module_version": "1.2.0",
            "_model_name": "LayoutModel",
            "_view_count": null,
            "_view_module": "@jupyter-widgets/base",
            "_view_module_version": "1.2.0",
            "_view_name": "LayoutView",
            "align_content": null,
            "align_items": null,
            "align_self": null,
            "border": null,
            "bottom": null,
            "display": null,
            "flex": null,
            "flex_flow": null,
            "grid_area": null,
            "grid_auto_columns": null,
            "grid_auto_flow": null,
            "grid_auto_rows": null,
            "grid_column": null,
            "grid_gap": null,
            "grid_row": null,
            "grid_template_areas": null,
            "grid_template_columns": null,
            "grid_template_rows": null,
            "height": null,
            "justify_content": null,
            "justify_items": null,
            "left": null,
            "margin": null,
            "max_height": null,
            "max_width": null,
            "min_height": null,
            "min_width": null,
            "object_fit": null,
            "object_position": null,
            "order": null,
            "overflow": null,
            "overflow_x": null,
            "overflow_y": null,
            "padding": null,
            "right": null,
            "top": null,
            "visibility": null,
            "width": null
          }
        },
        "f4839ee8c31542d2bdd33039ef39b96c": {
          "model_module": "@jupyter-widgets/controls",
          "model_name": "DescriptionStyleModel",
          "model_module_version": "1.5.0",
          "state": {
            "_model_module": "@jupyter-widgets/controls",
            "_model_module_version": "1.5.0",
            "_model_name": "DescriptionStyleModel",
            "_view_count": null,
            "_view_module": "@jupyter-widgets/base",
            "_view_module_version": "1.2.0",
            "_view_name": "StyleView",
            "description_width": ""
          }
        },
        "21c61a50ef9240328cab0c18310c5e28": {
          "model_module": "@jupyter-widgets/base",
          "model_name": "LayoutModel",
          "model_module_version": "1.2.0",
          "state": {
            "_model_module": "@jupyter-widgets/base",
            "_model_module_version": "1.2.0",
            "_model_name": "LayoutModel",
            "_view_count": null,
            "_view_module": "@jupyter-widgets/base",
            "_view_module_version": "1.2.0",
            "_view_name": "LayoutView",
            "align_content": null,
            "align_items": null,
            "align_self": null,
            "border": null,
            "bottom": null,
            "display": null,
            "flex": null,
            "flex_flow": null,
            "grid_area": null,
            "grid_auto_columns": null,
            "grid_auto_flow": null,
            "grid_auto_rows": null,
            "grid_column": null,
            "grid_gap": null,
            "grid_row": null,
            "grid_template_areas": null,
            "grid_template_columns": null,
            "grid_template_rows": null,
            "height": null,
            "justify_content": null,
            "justify_items": null,
            "left": null,
            "margin": null,
            "max_height": null,
            "max_width": null,
            "min_height": null,
            "min_width": null,
            "object_fit": null,
            "object_position": null,
            "order": null,
            "overflow": null,
            "overflow_x": null,
            "overflow_y": null,
            "padding": null,
            "right": null,
            "top": null,
            "visibility": null,
            "width": null
          }
        },
        "3743d1ea2474491ea8176e1203f116bb": {
          "model_module": "@jupyter-widgets/controls",
          "model_name": "ProgressStyleModel",
          "model_module_version": "1.5.0",
          "state": {
            "_model_module": "@jupyter-widgets/controls",
            "_model_module_version": "1.5.0",
            "_model_name": "ProgressStyleModel",
            "_view_count": null,
            "_view_module": "@jupyter-widgets/base",
            "_view_module_version": "1.2.0",
            "_view_name": "StyleView",
            "bar_color": null,
            "description_width": ""
          }
        },
        "9745c7688c6a46d281bea82585267986": {
          "model_module": "@jupyter-widgets/base",
          "model_name": "LayoutModel",
          "model_module_version": "1.2.0",
          "state": {
            "_model_module": "@jupyter-widgets/base",
            "_model_module_version": "1.2.0",
            "_model_name": "LayoutModel",
            "_view_count": null,
            "_view_module": "@jupyter-widgets/base",
            "_view_module_version": "1.2.0",
            "_view_name": "LayoutView",
            "align_content": null,
            "align_items": null,
            "align_self": null,
            "border": null,
            "bottom": null,
            "display": null,
            "flex": null,
            "flex_flow": null,
            "grid_area": null,
            "grid_auto_columns": null,
            "grid_auto_flow": null,
            "grid_auto_rows": null,
            "grid_column": null,
            "grid_gap": null,
            "grid_row": null,
            "grid_template_areas": null,
            "grid_template_columns": null,
            "grid_template_rows": null,
            "height": null,
            "justify_content": null,
            "justify_items": null,
            "left": null,
            "margin": null,
            "max_height": null,
            "max_width": null,
            "min_height": null,
            "min_width": null,
            "object_fit": null,
            "object_position": null,
            "order": null,
            "overflow": null,
            "overflow_x": null,
            "overflow_y": null,
            "padding": null,
            "right": null,
            "top": null,
            "visibility": null,
            "width": null
          }
        },
        "e907123f2a944ca1a284f1ee4d85ba14": {
          "model_module": "@jupyter-widgets/controls",
          "model_name": "DescriptionStyleModel",
          "model_module_version": "1.5.0",
          "state": {
            "_model_module": "@jupyter-widgets/controls",
            "_model_module_version": "1.5.0",
            "_model_name": "DescriptionStyleModel",
            "_view_count": null,
            "_view_module": "@jupyter-widgets/base",
            "_view_module_version": "1.2.0",
            "_view_name": "StyleView",
            "description_width": ""
          }
        },
        "a65002cce2e948858b0f1240e01d2812": {
          "model_module": "@jupyter-widgets/controls",
          "model_name": "HBoxModel",
          "model_module_version": "1.5.0",
          "state": {
            "_dom_classes": [],
            "_model_module": "@jupyter-widgets/controls",
            "_model_module_version": "1.5.0",
            "_model_name": "HBoxModel",
            "_view_count": null,
            "_view_module": "@jupyter-widgets/controls",
            "_view_module_version": "1.5.0",
            "_view_name": "HBoxView",
            "box_style": "",
            "children": [
              "IPY_MODEL_30ec9ecc0a5a4eb3b79d0b2a424f26b7",
              "IPY_MODEL_250d3edf5c984d62be8b86838d8f8daa",
              "IPY_MODEL_a267256631234c4b99839d16a73eb256"
            ],
            "layout": "IPY_MODEL_28a84498305047009840ad0813540197"
          }
        },
        "30ec9ecc0a5a4eb3b79d0b2a424f26b7": {
          "model_module": "@jupyter-widgets/controls",
          "model_name": "HTMLModel",
          "model_module_version": "1.5.0",
          "state": {
            "_dom_classes": [],
            "_model_module": "@jupyter-widgets/controls",
            "_model_module_version": "1.5.0",
            "_model_name": "HTMLModel",
            "_view_count": null,
            "_view_module": "@jupyter-widgets/controls",
            "_view_module_version": "1.5.0",
            "_view_name": "HTMLView",
            "description": "",
            "description_tooltip": null,
            "layout": "IPY_MODEL_64302555eeeb4a64a625e8b901d41ab9",
            "placeholder": "​",
            "style": "IPY_MODEL_60b0365c6d05427b9d3fd8ec9406f3ce",
            "value": "Downloading (…)/main/tokenizer.json: 100%"
          }
        },
        "250d3edf5c984d62be8b86838d8f8daa": {
          "model_module": "@jupyter-widgets/controls",
          "model_name": "FloatProgressModel",
          "model_module_version": "1.5.0",
          "state": {
            "_dom_classes": [],
            "_model_module": "@jupyter-widgets/controls",
            "_model_module_version": "1.5.0",
            "_model_name": "FloatProgressModel",
            "_view_count": null,
            "_view_module": "@jupyter-widgets/controls",
            "_view_module_version": "1.5.0",
            "_view_name": "ProgressView",
            "bar_style": "success",
            "description": "",
            "description_tooltip": null,
            "layout": "IPY_MODEL_f24de75e99df4dc5b71838d98c8325e2",
            "max": 1355863,
            "min": 0,
            "orientation": "horizontal",
            "style": "IPY_MODEL_df6de913717b4b5993ff4d5b0fe01a08",
            "value": 1355863
          }
        },
        "a267256631234c4b99839d16a73eb256": {
          "model_module": "@jupyter-widgets/controls",
          "model_name": "HTMLModel",
          "model_module_version": "1.5.0",
          "state": {
            "_dom_classes": [],
            "_model_module": "@jupyter-widgets/controls",
            "_model_module_version": "1.5.0",
            "_model_name": "HTMLModel",
            "_view_count": null,
            "_view_module": "@jupyter-widgets/controls",
            "_view_module_version": "1.5.0",
            "_view_name": "HTMLView",
            "description": "",
            "description_tooltip": null,
            "layout": "IPY_MODEL_26b3d1a343df40388cf0885a557c326b",
            "placeholder": "​",
            "style": "IPY_MODEL_cd1233228c934b86b70ff097193f3c0b",
            "value": " 1.36M/1.36M [00:00&lt;00:00, 12.2MB/s]"
          }
        },
        "28a84498305047009840ad0813540197": {
          "model_module": "@jupyter-widgets/base",
          "model_name": "LayoutModel",
          "model_module_version": "1.2.0",
          "state": {
            "_model_module": "@jupyter-widgets/base",
            "_model_module_version": "1.2.0",
            "_model_name": "LayoutModel",
            "_view_count": null,
            "_view_module": "@jupyter-widgets/base",
            "_view_module_version": "1.2.0",
            "_view_name": "LayoutView",
            "align_content": null,
            "align_items": null,
            "align_self": null,
            "border": null,
            "bottom": null,
            "display": null,
            "flex": null,
            "flex_flow": null,
            "grid_area": null,
            "grid_auto_columns": null,
            "grid_auto_flow": null,
            "grid_auto_rows": null,
            "grid_column": null,
            "grid_gap": null,
            "grid_row": null,
            "grid_template_areas": null,
            "grid_template_columns": null,
            "grid_template_rows": null,
            "height": null,
            "justify_content": null,
            "justify_items": null,
            "left": null,
            "margin": null,
            "max_height": null,
            "max_width": null,
            "min_height": null,
            "min_width": null,
            "object_fit": null,
            "object_position": null,
            "order": null,
            "overflow": null,
            "overflow_x": null,
            "overflow_y": null,
            "padding": null,
            "right": null,
            "top": null,
            "visibility": null,
            "width": null
          }
        },
        "64302555eeeb4a64a625e8b901d41ab9": {
          "model_module": "@jupyter-widgets/base",
          "model_name": "LayoutModel",
          "model_module_version": "1.2.0",
          "state": {
            "_model_module": "@jupyter-widgets/base",
            "_model_module_version": "1.2.0",
            "_model_name": "LayoutModel",
            "_view_count": null,
            "_view_module": "@jupyter-widgets/base",
            "_view_module_version": "1.2.0",
            "_view_name": "LayoutView",
            "align_content": null,
            "align_items": null,
            "align_self": null,
            "border": null,
            "bottom": null,
            "display": null,
            "flex": null,
            "flex_flow": null,
            "grid_area": null,
            "grid_auto_columns": null,
            "grid_auto_flow": null,
            "grid_auto_rows": null,
            "grid_column": null,
            "grid_gap": null,
            "grid_row": null,
            "grid_template_areas": null,
            "grid_template_columns": null,
            "grid_template_rows": null,
            "height": null,
            "justify_content": null,
            "justify_items": null,
            "left": null,
            "margin": null,
            "max_height": null,
            "max_width": null,
            "min_height": null,
            "min_width": null,
            "object_fit": null,
            "object_position": null,
            "order": null,
            "overflow": null,
            "overflow_x": null,
            "overflow_y": null,
            "padding": null,
            "right": null,
            "top": null,
            "visibility": null,
            "width": null
          }
        },
        "60b0365c6d05427b9d3fd8ec9406f3ce": {
          "model_module": "@jupyter-widgets/controls",
          "model_name": "DescriptionStyleModel",
          "model_module_version": "1.5.0",
          "state": {
            "_model_module": "@jupyter-widgets/controls",
            "_model_module_version": "1.5.0",
            "_model_name": "DescriptionStyleModel",
            "_view_count": null,
            "_view_module": "@jupyter-widgets/base",
            "_view_module_version": "1.2.0",
            "_view_name": "StyleView",
            "description_width": ""
          }
        },
        "f24de75e99df4dc5b71838d98c8325e2": {
          "model_module": "@jupyter-widgets/base",
          "model_name": "LayoutModel",
          "model_module_version": "1.2.0",
          "state": {
            "_model_module": "@jupyter-widgets/base",
            "_model_module_version": "1.2.0",
            "_model_name": "LayoutModel",
            "_view_count": null,
            "_view_module": "@jupyter-widgets/base",
            "_view_module_version": "1.2.0",
            "_view_name": "LayoutView",
            "align_content": null,
            "align_items": null,
            "align_self": null,
            "border": null,
            "bottom": null,
            "display": null,
            "flex": null,
            "flex_flow": null,
            "grid_area": null,
            "grid_auto_columns": null,
            "grid_auto_flow": null,
            "grid_auto_rows": null,
            "grid_column": null,
            "grid_gap": null,
            "grid_row": null,
            "grid_template_areas": null,
            "grid_template_columns": null,
            "grid_template_rows": null,
            "height": null,
            "justify_content": null,
            "justify_items": null,
            "left": null,
            "margin": null,
            "max_height": null,
            "max_width": null,
            "min_height": null,
            "min_width": null,
            "object_fit": null,
            "object_position": null,
            "order": null,
            "overflow": null,
            "overflow_x": null,
            "overflow_y": null,
            "padding": null,
            "right": null,
            "top": null,
            "visibility": null,
            "width": null
          }
        },
        "df6de913717b4b5993ff4d5b0fe01a08": {
          "model_module": "@jupyter-widgets/controls",
          "model_name": "ProgressStyleModel",
          "model_module_version": "1.5.0",
          "state": {
            "_model_module": "@jupyter-widgets/controls",
            "_model_module_version": "1.5.0",
            "_model_name": "ProgressStyleModel",
            "_view_count": null,
            "_view_module": "@jupyter-widgets/base",
            "_view_module_version": "1.2.0",
            "_view_name": "StyleView",
            "bar_color": null,
            "description_width": ""
          }
        },
        "26b3d1a343df40388cf0885a557c326b": {
          "model_module": "@jupyter-widgets/base",
          "model_name": "LayoutModel",
          "model_module_version": "1.2.0",
          "state": {
            "_model_module": "@jupyter-widgets/base",
            "_model_module_version": "1.2.0",
            "_model_name": "LayoutModel",
            "_view_count": null,
            "_view_module": "@jupyter-widgets/base",
            "_view_module_version": "1.2.0",
            "_view_name": "LayoutView",
            "align_content": null,
            "align_items": null,
            "align_self": null,
            "border": null,
            "bottom": null,
            "display": null,
            "flex": null,
            "flex_flow": null,
            "grid_area": null,
            "grid_auto_columns": null,
            "grid_auto_flow": null,
            "grid_auto_rows": null,
            "grid_column": null,
            "grid_gap": null,
            "grid_row": null,
            "grid_template_areas": null,
            "grid_template_columns": null,
            "grid_template_rows": null,
            "height": null,
            "justify_content": null,
            "justify_items": null,
            "left": null,
            "margin": null,
            "max_height": null,
            "max_width": null,
            "min_height": null,
            "min_width": null,
            "object_fit": null,
            "object_position": null,
            "order": null,
            "overflow": null,
            "overflow_x": null,
            "overflow_y": null,
            "padding": null,
            "right": null,
            "top": null,
            "visibility": null,
            "width": null
          }
        },
        "cd1233228c934b86b70ff097193f3c0b": {
          "model_module": "@jupyter-widgets/controls",
          "model_name": "DescriptionStyleModel",
          "model_module_version": "1.5.0",
          "state": {
            "_model_module": "@jupyter-widgets/controls",
            "_model_module_version": "1.5.0",
            "_model_name": "DescriptionStyleModel",
            "_view_count": null,
            "_view_module": "@jupyter-widgets/base",
            "_view_module_version": "1.2.0",
            "_view_name": "StyleView",
            "description_width": ""
          }
        }
      }
    }
  },
  "cells": [
    {
      "cell_type": "markdown",
      "source": [
        "First Approch\n",
        "\n",
        "Using pretrained marathi summmarization model"
      ],
      "metadata": {
        "id": "Sp_th3vbtVGH"
      }
    },
    {
      "cell_type": "code",
      "source": [
        "# Install Required Packeges\n",
        "!pip install pytube transformers[sentencepiece] SpeechRecognition"
      ],
      "metadata": {
        "colab": {
          "base_uri": "https://localhost:8080/"
        },
        "id": "lDTC49oOYl-Z",
        "outputId": "91e92af1-220b-43d3-aac2-7e380c499662"
      },
      "execution_count": null,
      "outputs": [
        {
          "output_type": "stream",
          "name": "stdout",
          "text": [
            "Collecting pytube\n",
            "  Downloading pytube-15.0.0-py3-none-any.whl (57 kB)\n",
            "\u001b[2K     \u001b[90m━━━━━━━━━━━━━━━━━━━━━━━━━━━━━━━━━━━━━━━━\u001b[0m \u001b[32m57.6/57.6 kB\u001b[0m \u001b[31m1.6 MB/s\u001b[0m eta \u001b[36m0:00:00\u001b[0m\n",
            "\u001b[?25hCollecting transformers[sentencepiece]\n",
            "  Downloading transformers-4.32.0-py3-none-any.whl (7.5 MB)\n",
            "\u001b[2K     \u001b[90m━━━━━━━━━━━━━━━━━━━━━━━━━━━━━━━━━━━━━━━━\u001b[0m \u001b[32m7.5/7.5 MB\u001b[0m \u001b[31m62.3 MB/s\u001b[0m eta \u001b[36m0:00:00\u001b[0m\n",
            "\u001b[?25hCollecting SpeechRecognition\n",
            "  Downloading SpeechRecognition-3.10.0-py2.py3-none-any.whl (32.8 MB)\n",
            "\u001b[2K     \u001b[90m━━━━━━━━━━━━━━━━━━━━━━━━━━━━━━━━━━━━━━━━\u001b[0m \u001b[32m32.8/32.8 MB\u001b[0m \u001b[31m43.1 MB/s\u001b[0m eta \u001b[36m0:00:00\u001b[0m\n",
            "\u001b[?25hRequirement already satisfied: filelock in /usr/local/lib/python3.10/dist-packages (from transformers[sentencepiece]) (3.12.2)\n",
            "Collecting huggingface-hub<1.0,>=0.15.1 (from transformers[sentencepiece])\n",
            "  Downloading huggingface_hub-0.16.4-py3-none-any.whl (268 kB)\n",
            "\u001b[2K     \u001b[90m━━━━━━━━━━━━━━━━━━━━━━━━━━━━━━━━━━━━━━\u001b[0m \u001b[32m268.8/268.8 kB\u001b[0m \u001b[31m25.1 MB/s\u001b[0m eta \u001b[36m0:00:00\u001b[0m\n",
            "\u001b[?25hRequirement already satisfied: numpy>=1.17 in /usr/local/lib/python3.10/dist-packages (from transformers[sentencepiece]) (1.23.5)\n",
            "Requirement already satisfied: packaging>=20.0 in /usr/local/lib/python3.10/dist-packages (from transformers[sentencepiece]) (23.1)\n",
            "Requirement already satisfied: pyyaml>=5.1 in /usr/local/lib/python3.10/dist-packages (from transformers[sentencepiece]) (6.0.1)\n",
            "Requirement already satisfied: regex!=2019.12.17 in /usr/local/lib/python3.10/dist-packages (from transformers[sentencepiece]) (2023.6.3)\n",
            "Requirement already satisfied: requests in /usr/local/lib/python3.10/dist-packages (from transformers[sentencepiece]) (2.31.0)\n",
            "Collecting tokenizers!=0.11.3,<0.14,>=0.11.1 (from transformers[sentencepiece])\n",
            "  Downloading tokenizers-0.13.3-cp310-cp310-manylinux_2_17_x86_64.manylinux2014_x86_64.whl (7.8 MB)\n",
            "\u001b[2K     \u001b[90m━━━━━━━━━━━━━━━━━━━━━━━━━━━━━━━━━━━━━━━━\u001b[0m \u001b[32m7.8/7.8 MB\u001b[0m \u001b[31m71.3 MB/s\u001b[0m eta \u001b[36m0:00:00\u001b[0m\n",
            "\u001b[?25hCollecting safetensors>=0.3.1 (from transformers[sentencepiece])\n",
            "\u001b[31mERROR: Operation cancelled by user\u001b[0m\u001b[31m\n",
            "\u001b[0m"
          ]
        }
      ]
    },
    {
      "cell_type": "code",
      "source": [
        "! pip install pydub"
      ],
      "metadata": {
        "id": "YFg7rA8etjWY"
      },
      "execution_count": null,
      "outputs": []
    },
    {
      "cell_type": "markdown",
      "source": [
        "Download youtube video"
      ],
      "metadata": {
        "id": "4-TvC28RYm5M"
      }
    },
    {
      "cell_type": "code",
      "source": [
        "# Import necessary libraries\n",
        "from pytube import YouTube\n",
        "import os\n",
        "import moviepy.editor as mp"
      ],
      "metadata": {
        "id": "1j7eWOx_bp1U"
      },
      "execution_count": null,
      "outputs": []
    },
    {
      "cell_type": "code",
      "source": [
        "# Define a function to download audio from a YouTube video\n",
        "def download_audio(url, output_folder):\n",
        "    # Create the output folder if it doesn't exist\n",
        "    os.makedirs(output_folder, exist_ok=True)\n",
        "\n",
        "    # Get the YouTube video\n",
        "    yt = YouTube(url)\n",
        "\n",
        "    # Get the highest quality audio stream (usually in the format 'audio only')\n",
        "    audio_stream = yt.streams.filter(only_audio=True).first()\n",
        "\n",
        "    # Download the audio stream\n",
        "    audio_stream.download(output_folder)\n",
        "\n",
        "    # Get the downloaded file's path\n",
        "    downloaded_file_path = os.path.join(output_folder, audio_stream.default_filename)\n",
        "\n",
        "    # Convert the downloaded video to MP3 format\n",
        "    audio_clip = mp.AudioFileClip(downloaded_file_path)\n",
        "    mp3_output_path = os.path.join(output_folder, f\"{yt.title}.mp3\")\n",
        "    audio_clip.write_audiofile(mp3_output_path)\n",
        "\n",
        "    # Delete the original video file\n",
        "    os.remove(downloaded_file_path)\n",
        "\n",
        "    return mp3_output_path"
      ],
      "metadata": {
        "id": "gbupfUK0YZyS"
      },
      "execution_count": null,
      "outputs": []
    },
    {
      "cell_type": "code",
      "source": [
        "if __name__ == \"__main__\":\n",
        "    video_url = \"https://www.youtube.com/watch?v=0-GvXmJFcrw\"  # Replace with the YouTube video URL\n",
        "    output_folder = \"downloaded_audio\"  # Replace with the desired output folder\n",
        "\n",
        "    mp3_file_path = download_audio(video_url, output_folder)\n",
        "    print(f\"MP3 audio downloaded and saved at: {mp3_file_path}\")"
      ],
      "metadata": {
        "colab": {
          "base_uri": "https://localhost:8080/"
        },
        "id": "LqruJ91RbvK_",
        "outputId": "1f7cabc4-51c1-42d6-9758-7556b38e8093"
      },
      "execution_count": null,
      "outputs": [
        {
          "output_type": "stream",
          "name": "stdout",
          "text": [
            "MoviePy - Writing audio in downloaded_audio/महायुद्ध LIVE: अजित पवारांची एन्ट्री, महाराष्ट्रातल्या सत्ताकारणातली मोठी बिघाडी! Pawar vs Pawar.mp3\n"
          ]
        },
        {
          "output_type": "stream",
          "name": "stderr",
          "text": [
            "                                                                          "
          ]
        },
        {
          "output_type": "stream",
          "name": "stdout",
          "text": [
            "MoviePy - Done.\n",
            "MP3 audio downloaded and saved at: downloaded_audio/महायुद्ध LIVE: अजित पवारांची एन्ट्री, महाराष्ट्रातल्या सत्ताकारणातली मोठी बिघाडी! Pawar vs Pawar.mp3\n"
          ]
        },
        {
          "output_type": "stream",
          "name": "stderr",
          "text": [
            "\r"
          ]
        }
      ]
    },
    {
      "cell_type": "markdown",
      "source": [
        "Convert downloaded audio file wav format and 1 minute chunk"
      ],
      "metadata": {
        "id": "pZNq-3L_Y4ST"
      }
    },
    {
      "cell_type": "code",
      "source": [
        "# Import necessary libraries\n",
        "from pydub import AudioSegment\n",
        "import os\n",
        "import re"
      ],
      "metadata": {
        "id": "kF8_QWZubz2-"
      },
      "execution_count": null,
      "outputs": []
    },
    {
      "cell_type": "code",
      "execution_count": null,
      "metadata": {
        "id": "qxZ0ZVJaHH-v",
        "colab": {
          "base_uri": "https://localhost:8080/"
        },
        "outputId": "75456b3a-0145-4d16-f7b3-c41f979f8464"
      },
      "outputs": [
        {
          "output_type": "stream",
          "name": "stdout",
          "text": [
            "Audio divided into 1-minute chunks wav format.\n"
          ]
        }
      ],
      "source": [
        "# Define a function to divide audio into chunks\n",
        "def divide_audio(input_file, output_folder, chunk_duration_ms):\n",
        "    # Load the input MP3 audio file\n",
        "    audio = AudioSegment.from_mp3(input_file)\n",
        "\n",
        "    # Calculate the total duration of the audio in milliseconds\n",
        "    total_duration_ms = len(audio)\n",
        "\n",
        "    # Calculate the number of chunks needed\n",
        "    num_chunks = total_duration_ms // chunk_duration_ms\n",
        "\n",
        "    # Create the output folder if it doesn't exist\n",
        "    os.makedirs(output_folder, exist_ok=True)\n",
        "\n",
        "    # Divide the audio into chunks\n",
        "    for i in range(num_chunks):\n",
        "            start_time = i * chunk_duration_ms\n",
        "            end_time = start_time + chunk_duration_ms\n",
        "            chunk = audio[start_time:end_time]\n",
        "            output_file = os.path.join(output_folder, f\"chunk_{i+1}.wav\")\n",
        "            chunk.export(output_file,format=\"wav\")\n",
        "\n"
      ]
    },
    {
      "cell_type": "code",
      "source": [
        "if __name__ == \"__main__\":\n",
        "    input_file = \"/content/downloaded_audio/महायुद्ध LIVE: अजित पवारांची एन्ट्री, महाराष्ट्रातल्या सत्ताकारणातली मोठी बिघाडी! Pawar vs Pawar.mp3\"  # Replace with your input MP3 file\n",
        "    output_folder = \"chunk_wav_files\"  # Replace with the desired output folder\n",
        "    chunk_duration_ms = 60000  # 1 minute in milliseconds\n",
        "\n",
        "    divide_audio(input_file, output_folder, chunk_duration_ms)\n",
        "    print(\"Audio divided into 1-minute chunks wav format.\")"
      ],
      "metadata": {
        "id": "ZI4Ya5QAxL9U"
      },
      "execution_count": null,
      "outputs": []
    },
    {
      "cell_type": "markdown",
      "source": [
        "recognize audio from chunk files using speech recognition then pass text into the summarization model and summarize the text"
      ],
      "metadata": {
        "id": "Snyn3eFCZRFK"
      }
    },
    {
      "cell_type": "code",
      "source": [
        "# Import necessary libraries\n",
        "import re\n",
        "import speech_recognition as sr\n",
        "from transformers import pipeline\n",
        "from transformers import AutoTokenizer, AutoModelForSeq2SeqLM\n",
        "import os"
      ],
      "metadata": {
        "id": "NPFhd-t-cBW4"
      },
      "execution_count": null,
      "outputs": []
    },
    {
      "cell_type": "code",
      "source": [
        "# Create an empty list to store summaries\n",
        "summary_list=[]\n",
        "\n",
        "WHITESPACE_HANDLER = lambda k: re.sub('\\s+', ' ', re.sub('\\n+', ' ', k.strip()))\n",
        "\n",
        "# Set up summarization model and tokenizer\n",
        "model_name = \"csebuetnlp/mT5_multilingual_XLSum\"\n",
        "tokenizer = AutoTokenizer.from_pretrained(model_name)\n",
        "model = AutoModelForSeq2SeqLM.from_pretrained(model_name)\n",
        "\n",
        "# Create a recognizer instance for speech recognition\n",
        "\n",
        "recognizer = sr.Recognizer()\n",
        "\n",
        "# Loop through chunk files and perform speech recognition and summarization\n",
        "for i in range(115):\n",
        "  i=str(i)\n",
        "  for j in os.listdir(\"/content/chunk_wav_files\"):\n",
        "      k=(j.split(\"_\")[1]).split(\".\")[0]\n",
        "      if i == k:\n",
        "        with sr.AudioFile(\"/content/chunk_wav_files/\"+str(j)) as source:\n",
        "            audio = recognizer.record(source)  # Record the entire audio file\n",
        "        try:\n",
        "            # Recognize the speech using Google Web Speech API\n",
        "            text = recognizer.recognize_google(audio,language=\"mr-IN\")\n",
        "            # Perform text summarization\n",
        "            article_text = text\n",
        "            input_ids = tokenizer(\n",
        "                [WHITESPACE_HANDLER(article_text)],\n",
        "                return_tensors=\"pt\",\n",
        "                padding=\"max_length\",\n",
        "                truncation=True,\n",
        "                max_length=1000\n",
        "            )[\"input_ids\"]\n",
        "\n",
        "            output_ids = model.generate(\n",
        "                input_ids=input_ids,\n",
        "                max_length=84,\n",
        "                no_repeat_ngram_size=2,\n",
        "                num_beams=4\n",
        "            )[0]\n",
        "\n",
        "            summary = tokenizer.decode(\n",
        "                output_ids,\n",
        "                skip_special_tokens=True,\n",
        "                clean_up_tokenization_spaces=False\n",
        "            )\n",
        "            summary_list.append(summary)\n",
        "        except sr.UnknownValueError:\n",
        "            print(\"Google Web Speech API could not understand audio\")\n",
        "        except sr.RequestError as e:\n",
        "            print(\"Could not request results from Google Web Speech API; {0}\".format(e))"
      ],
      "metadata": {
        "id": "Ss1vPYMIYK3b"
      },
      "execution_count": null,
      "outputs": []
    },
    {
      "cell_type": "code",
      "source": [
        "# Combine all summaries into a single text\n",
        "summarize_text=\"\".join(summary_list)"
      ],
      "metadata": {
        "id": "kvlAlMcdYLDo"
      },
      "execution_count": null,
      "outputs": []
    },
    {
      "cell_type": "code",
      "source": [
        "# Print the summarized text\n",
        "summarize_text"
      ],
      "metadata": {
        "colab": {
          "base_uri": "https://localhost:8080/",
          "height": 1000
        },
        "id": "X1jm96kFYLP1",
        "outputId": "6621bb16-1732-4d79-c4d1-aa78974866eb"
      },
      "execution_count": null,
      "outputs": [
        {
          "output_type": "execute_result",
          "data": {
            "text/plain": [
              "\"अजित पवारांनी उपमुख्यमंत्रीपदाची शपथ घेऊन आज आठवण वा दिवस उजाडलेला आहे.राष्ट्रवादी काँग्रेसचे अध्यक्ष शरद पवार आणि विरोधी पक्षनेते अजित पाटील यांच्यात महाराष्ट्रात लढाई सुरू आहे.राष्ट्रवादी काँग्रेसचे अध्यक्ष शरद पवार आणि भाजपचे नेते सुप्रिया सुळे यांच्यात झालेल्या वादग्रस्त प्रयोगात आपल्या सोबत उमेश पाटील आहेतमहाराष्ट्र विधानसभा निवडणुकीच्या निकाल लागल्यानंतर भाजप आणि भारतीय जनता पक्ष या दोन्ही पक्षांच्या नेत्यांच्या गटाला घेऊन सत्तेत गेले आहेत.राष्ट्रवादी काँग्रेसचे अध्यक्ष अजितदाद अब्दुल कलाम यांनी भारतीय जनता पार्टी आणि शिवसेनेच्या एकत्रित सरकार बरोबर जाण्याचा निर्णय घेतला आहे.महाराष्ट्र विधानसभा निवडणुकीचा निर्णय एकदा नव्हे दोन-तीन वेळा फिरायला लागला आणि पुन्हा मात्र तो बदलला गेला.राष्ट्रवादी काँग्रेसचे अध्यक्ष शरद पवार यांच्या निवृत्तीची घोषणा करण्यात आली आणि त्यावेळी त्यांच्या निवडणुकीत अजित दाद यांची भूमिका घेतली गेली.पहाटेचा शपथ विधी म्हणजे अजित पवारांनी महाराष्ट्राच्या नजरेमध्ये खलनायक ठरवण्याचा प्रयत्न केला तर मग त्या बाबतीतला खुलासा का करण्यात आला?अजित पवार यांची बीजेपी अध्यक्ष म्हणून निवडणूक लढवण्यात आली तेव्हा पक्षाच्या वरिष्ठ नेत्यांच्या आदेशाप्रमाणे जर वागत असतील आणि नंतर तर भूमिका बदलल्या जातात असेल.महाराष्ट्र राष्ट्रवादी काँग्रेसच्या वर्धापन दिन सोहळ्यात अजित पवारांनीच विरोधी पक्षनेतेपद व्हायचंच नव्हतं तेव्हा मला या जबाबदारीतून मुक्त करा असं तुम्हाला सांगितलं असेल का?माजी केंद्रीय मंत्री अजित दाद यांना संघटनेमध्ये काम करण्याची जबाबदारी द्या ही सांगण्याची वेळ येते आणि ती प्रत्यक्ष समोर येत नाही.राष्ट्रवादी काँग्रेसचे अध्यक्ष अजित पवार यांनी विधानसभा निवडणुकीत आमदार निवडून आणले नाहीत.विधानसभा निवडणुकीच्या पार्श्वभूमीवर अजित पवार यांच्या अध्यक्षपदी नियुक्ती करण्यात आली तेव्हाच सभागृहामध्ये शिट्ट्या टाळ्या वाजल्या जातात ती कामातून तयार झालेली आहे.निवडणूक आयोगाकडे ऑलरेडी प्रकरण केल्यानंतर राष्ट्रवादी काँग्रेसचे अध्यक्ष शरद पवार यांच्यावर कायदेशीर पेच निर्माण झाली आहे याचा घेतलेला आढावाराष्ट्रवादी काँग्रेसचे अध्यक्ष शरद पवार यांनी आपला हक्क सांगितला आहे आणि तोही आमदारांच्या सह्याद्री सांगिती आहे असा दावा त्यांनी केलेला आहे.आदरणीय अजित दादांनी मागितलं आणि त्यांना मिळालं नाही असं कोणतं एक प्रश्न आहे ते त्यांनी सांगावंराष्ट्रवादी काँग्रेसचे अध्यक्ष शरद पवार यांनी सर्वोच्च न्यायालयात मान्य अजितदादा यांची भेट घेतली.महाविकास आघाडी लढली असती जिंकली नसती तर कदाचित राज्याचे सर्वोच्च पद दादांना दिले गेला असता उमेश पाटील अजून एक असं म्हणाले की भाजप सोबत गेलो नाही मग आपण गेल्या नाही यायचं चुकीचं काय झालं ते चांगलंच झाल्याचं स्पष्ट झाराष्ट्रवादी काँग्रेसचे अध्यक्ष शरद पवार यांनी विधानसभा निवडणुकीचा निर्णय घेतला तेव्हा त्यांनी अनेक वाटाघाटी केल्या पण त्यांच्या मनाप्रमाणे झालेलं राजकीय तह चालवतो.पवार साहेबांना दगा देण्याची वृत्ती ही तुमच्या मध्ये नव्हतीतुम्हीच असल्यापासून पक्ष ते आठवीत शाळेत होतो आणि आता नवीन आपण सुरू करूया.अजित दादांना संपूर्ण महाराष्ट्रामध्ये खलनायक ठरवला गेला त्यावेळेला सुद्धा या बातमीमध्ये पुतळे का जळू दिले गेले नाही.गृहमंत्री अजित पवार यांच्याविरोधात महाराष्ट्र नवनिर्माण सेनेचे अध्यक्ष आणि विरोधी पक्षनेते राजन पाटलांचे पुतळे झाले होते.सगळ्या महाराष्ट्राला माहित आहे की एकदा शब्द दिल्यानंतर अजित पवार परत माघारी फिरत नाहीअजित पवार यांच्या निवृत्तीबाबत आज भुजबळ साहेबांनी आपल्या कार्यकर्त्यांना सांगितलं होतं की त्यांनी आपला निर्णय घेतला होता आणि त्यांच्या कुटुंबाला त्या ठिकाणी आवरण्याची जबाबदारी नव्हती.पंतप्रधान नरेंद्र मोदींनी 20 जून 2022 ची भेट घेतली तेव्हा शरद पवारांनी शेतकऱ्यांच्या प्रश्नांचे कारण निवेदन देण्याचं आवाहन केलं.शरद पवार यांनी महाराष्ट्रातल्या मुख्यमंत्रिपदाची शपथ घेतली तेव्हा त्यांनी भारतीय जनता पार्टीच्या सोबत जाऊन सरकार बनवण्याचा निर्णय केला होता.राष्ट्रवादी काँग्रेसचे अध्यक्ष अजित पवार यांनी विधानसभा निवडणुकीच्या पार्श्वभूमीवर भाजपसोबत घेतलेला हा निर्णय दोन्ही पक्षाच्या सर्वोच्च नेत्यांच्या पातळीवरच घेण्यात आला होता.राष्ट्रवादी काँग्रेसचे अध्यक्ष अजित दादा पवार आणि भाजपचे नेते देवेंद्र फडणवीस यांच्यात झालेली बैठकी ही तीव्र झाली आहे.लोकसभा निवडणुकीच्या पार्श्वभूमीवर मुख्यमंत्री उद्धव ठाकरे यांच्या नेहरू सेंटरमध्ये पवार साहेबांचा अपमान झाला होता.काँग्रेस अध्यक्ष शरद पवार यांनी महाराष्ट्राच्या मुख्यमंत्रिपदाची शपथ घेतली आणि त्यावेळी अजित दादा यांच्या बरोबर झालेल्या बैठकीमध्ये ही गोष्ट माहिती मला मिळाली.राष्ट्रवादी काँग्रेसचे अध्यक्ष शरद पवार लेट गो ग्रीन सिग्नल नव्हता ते आधीच डोक्यात ठेवलं होतं पण नंतर पुन्हा दुसरा लावला जाणार आहे.राष्ट्रवादी काँग्रेसचे अध्यक्ष अजित चव्हाण यांनी महाराष्ट्र नवनिर्माण सेनेचे खासदार प्रफुल्ल पटेल यांची भेट घेतली होती.शरद पवार यांचा आज स्मृतिदिन होता आज सिंपती सेंटीमेंट या सगळ्यांत मोठ्या शपथविधींच्या माध्यमातून महाराष्ट्रात झाला.शालिनीताई पाटील यांनी शरद पवार यांच्यावर टीका केली आणि ते तिकडे गेले.भारतीय जनता पार्टी आणि राष्ट्रवादी काँग्रेस यांच्यात झालेल्या निवडणुकांच्या चर्चेला सगळ्या नेत्यांनी मान्यता दिली.मुख्यमंत्री उद्धव ठाकरे यांच्या उपस्थितीत उमेश पाटील आणि अजितदादा पवार या दोन्ही नेत्यांनी एकमेकांवर टीका केली.राष्ट्रवादी काँग्रेसचे अध्यक्ष शरद पवार यांनी विधानसभा निवडणुकीत देवेंद्रजी पाटील यांची मुख्यमंत्रिपदाची शपथ घेतली आहे.राष्ट्रवादी काँग्रेसचे अध्यक्ष शरद पवार यांच्या नेतृत्वाखाली महाराष्ट्राची राजकीय नांदी निर्माण झाली आहे.भारतीय जनता पक्षाचे अध्यक्ष शरद पवार यांनी विधानसभा निवडणुकीत काय निर्णय घेतले आहेत हे मांडताना मी एकच प्रश्न विचारत आहे.महाराष्ट्र केसरी दिलेल्या तालुक्यातील तुमच्या नेत्यांना अजित चव्हाण यांच्याशी चर्चा करत असताना अतिशय सभ्यता पडणार आहे.तुम्ही असं म्हटलं की लोकांना संपवलं म्हणजे काय केलं का?महाराष्ट्राचे मुख्यमंत्री देवेंद्र फडणवीस यांच्याविरोधात भाजपची सत्ता संपवण्याची सुपारी घेतली आता इतरांना हे काय बोलताय?आदरणीय पवार साहेबांच्या बाबतीत मला बोलाव लागलमुख्यमंत्री देवेंद्रजी फडणवीस यांनी केलेल्या समृद्धी महामार्गातील मुंबईच्या आसपासच्या प्रकल्पातील कामाच्या तुलनेत महाराष्ट्राला औद्योगिक दृष्ट्या नंबर वन बनवण्याचा निर्णय घेतला आहे.माझे नेते सन्माननीय देवेंद्र फडणवीस यांनी मुख्यमंत्री उद्धव ठाकरे यांच्या अध्यक्षतेखाली काय केलं हे आम्ही लोकांच्या समोर ठेवतो.भारतीय जनता पार्टीचा कार्यकर्ता म्हणून मला खूप बरं वाटलं आणि आनंद झाला की या महाराष्ट्र मधल्या मोठ्या नेत्यांना मोदीजी नेतृत्वाची भुरळ पडली आहे.वेदांता बरोबर हा प्रकल्प भारतामध्ये करणार होता त्या फुलांची अडचणी सुरू असल्याने ती पूर्णपणे बंद झाली आहे.पंतप्रधान नरेंद्र मोदी अमेरिकेच्या दौऱ्यावर गेले होते त्यावेळी त्यांनी महाराष्ट्रात मोठ्या प्रमाणावर परकीय गुंतवणूक काढली होती.राष्ट्रवादी काँग्रेसच्या नऊ मंत्र्यांनी शपथ घेतली पण अजित पवार यांना खातेवाटप झालेलं नाही माहिती अशी पुढे येत आहे.तुम्हाला ऑडिओ म्यूट आहे का?काँग्रेस ही सध्या एकदम वेगळी आहे आणि सगळं काम चाललेलं आहे.काँग्रेस अध्यक्ष शरद पवार यांच्यावर अविश्वास बंडाला घेऊन दाखवलेला नाही म्हणजे ते पहिला दोन दिवस ड्रॉ करायचे आहेत पण ही लढाई पूर्ण देशभरात सुरू आहे.काँग्रेस अध्यक्ष शरद पवार आणि विरोधी पक्षनेते अजित शहा यांच्यात भाजपची सत्ता टिकवण्याची जी राक्षसी महत्त्वकांक्षा आहे ती इतक्या अनेक ठिकाणी अनैतिक अगदी गुन्हेगारीकरण ज्याला म्हणता येईल अशा पातळीवर पोहोचली आहे.काँग्रेस नेते उमेश पाटील यांनी पवार साहेबांनी कोणाबरोबर काय चर्चा केली त्याविषयी सातत्याने भूमिका मांडली आहे.काँग्रेसचे अध्यक्ष शरद पवार यांच्याविरोधात भाजपला बाहेरून पाठिंबा देण्याच्या मुद्द्यावरून उमेश आंबेडकर यांना तीव्र प्रतिक्रिया आली आहे.काँग्रेसचे अध्यक्ष शरद पवार यांनी दादोजी कोंडदेव यांचा पुतळा बाजूला काढला होता असे अजित दादा यांच्या नावाची चर्चा सध्या सुरू आहे.अजित चव्हाण यांच्या नेतृत्वाखाली भारतीय जनता पार्टीला 'क्लियर कट स्टेटमेंट' दिलेला आहे.महाराष्ट्राचे माजी मुख्यमंत्री अजित दाद यांच्यावर भाजपने भ्रष्टाचाराचा आरोप केला आणि त्यानंतर त्यांनी ही चौकशी केली.केंद्रीय मंत्री अजित शिंदे यांच्याविरोधात घराणेशाहीचा आरोप करण्यात आला तेव्हा भाजपचे अध्यक्ष अमित शाह यांनी मुख्यमंत्रिपदाची शपथ घेतली होती.भाजपचे अध्यक्ष अजित दाद यांनी विधानसभा निवडणुकीचा निकाल जाहीर केला आहे.तुमच्या एका घराण्याच्या नेत्यांनी राजकीय सर केलामी पत्रकार आहे म्हणजे व्यक्ती शाळेत घेऊ नका परंतु भ्रष्टाचार करून त्याला आजीला झालंतुम्हाला माहिती आहे की महाराष्ट्राचे मुख्यमंत्री भूषण राऊत आणि उमेश पाटल यांनी नुकतंच आपल्या विरोधी पक्षनेतेांना संबोधित केलं आहे.भाजपचे नेते योगेश पाटील आणि अजित पवार यांच्यात आजची चर्चा सुरू झाली आहे.राष्ट्रवादी काँग्रेसचे अध्यक्ष शरद पवार आणि विरोधी पक्षनेते अजितदाद यांची तुलना करण्याची सुद्धा आमची पात्रता नाही आहे.भारतीय जनता पार्टीच्या कार्यकर्त्यांना उद्या खालमध्ये भेटण्याची सुद्धा पंचायत होईल त्यामुळे प्रत्येकाच्या मनामध्ये जागृत राहिल्या पाहिजेतभारतीय जनता पार्टीवर विरोधात असताना निश्चितपणे त्यांच्यावर टीका केलेली आहे का?ममता बॅनर्जी आणि लाडू प्रसाद यादव भारतीय जनता पार्टीच्या विरोधात एकत्र झाले.पश्चिम बंगालमध्ये ममता बॅनर्जी आणि तृणमूल कांग्रेस यांच्यात झालेल्या चकमकीत सत्ताधारी भारतीय जनता पार्टीच्या बरोबर जाऊन लाभार्थी राहिलेले आहेत.मागच्या निवडणुकीमध्ये प्रचार करून सुद्धा नकारात्मक वातावरण निर्माण झालेलं असताना देखील भारतीय जनता पार्टीचे नरेंद्र मोदी साहेब यांच्यामध्ये एकमत नाही त्यांचा पंतप्रधानपदाचा चेहरा ठरत नाही.शरद पवार राष्ट्रीय राजकारणात कशाला पडताय तुमच्या पक्षातला आपला पक्ष आहे आपण आमदारांचे बघूया आणि इथेच भाजप बरोबर भांडवली करा असं अजित दादांनी सांगितलं आहे.जॉर्ज फर्नांडिस यांनी भारतीय जनता पार्टीला नमस्कार केलं तर राष्ट्रवादी काँग्रेसला पर्याय नाही?नितेश कुमार यांनी भारतीय जनता पार्टीची विचारधारा सोडून दिली होती असा अंदाज घेतला तेव्हा अटल बिहारी वाजपेयी यांच्या सरकारमध्ये अनेक वेगवेगळ्या विचारांचे नेते होते पण त्यांनी त्यांच्या कुटीला जाऊ ठेवलं होतं.महाराष्ट्र विधानसभा निवडणुकीत विरोधी पक्षनेते अजितदादा पवार हे सत्ताधाऱ्यांच्या कळपात गेला मंत्री झालायमाझं कार्य आतापर्यंत सगळ्यांत महत्त्वाचं आहे परंतु आजच्या काळामध्ये सर्वसामान्य जनतेची काम होणं अत्यंत महत्वाचा आहे.ज्यावेळी लोकांनी निवडून दिलेलं असतं की लोकांना अमुक विचारधारेचे तुम्ही आहात म्हणून तिकडे मतदारसंघाचे वाटोळ झालं तरी चालेल परंतु त्यावेळेला लोकांच्या मनात विचारधारा जगली पाहिजे असं लोक कधी म्हणत नाहीत.राष्ट्रवादी काँग्रेस पार्टीच्या आमदारांच्या मतदारसंघांमध्ये 50 कोटी रुपयांच्या कामांना मंजुरी देण्याची प्रक्रिया सुरू झाली आणि मग काय तुम्ही गद्दारी करणार का?अजित गुवाहाटी आणि आशिष गद्दारी यांच्यात झालेल्या चर्चेमध्ये दोन्ही महिलांनी प्रॅक्टिकली समजून घेतली.विरोधी पक्षनेते अजित पवार यांना अर्थ खाता देऊ नये अशी मागणी तुमच्या आमदारांनी केली आहे.राष्ट्रवादी काँग्रेसचे अध्यक्ष शरद पवार यांनी आपल्या पक्षातून बाहेर पडल्याचं स्पष्ट केलं आहे.राष्ट्रवादी काँग्रेसचे अध्यक्ष अजित पवार यांनी विधानसभा निवडणुकीत महामंडळ असतील याचा ताळमेळ बसवायला आम्हाला काही वेळ लागेल तो वेळा आम्ही घेतो आहोत यात कुठेही अडचण येणार नाही.आमचा महायुतीला अंतर्गत विषय आहे तो चर्चेतून सोडवला जाणार आहेतुम्हाला कोणताही पक्ष पूर्णतः पुरोगामी विचाराचा नाही असं म्हणत अजित पवार यांनी शिवसेनेतून बंड केलं होतं.उद्धव ठाकरे यांनी स्वतःच्या मुलाच्या मंत्रिपदासाठी लालसेपोटी तोडफोड केली मात्र बाळासाहेब आणि अजित दादा यांच्या मार्गदर्शनाखाली त्यांचा एक महत्त्वाचा मुद्दा आहे.महाराष्ट्र नवनिर्माण सेनेचे अध्यक्ष एकनाथ शिंदे यांनी मुख्यमंत्री उद्धव ठाकरे यांच्यावर तीव्र प्रतिक्रिया दिली.काँग्रेस महाविकास आघाडी स्थापन झाल्यानंतर आता मुख्यमंत्री वगळता शिंदे गटाचे त्यांनी एक वर्ष मंत्रिपद उपभोगला तर त्यांना बाजूला करा.महाराष्ट्र नवनिर्माण सेनेचे मुख्यमंत्री उद्धव ठाकरे यांचे शिवसेना आणि राष्ट्रवादी काँग्रेस यांच्यात सुरू असलेला वाद थोडक्यात दाखला देत असतो.महाराष्ट्र विधानसभा निवडणुकीच्या निकालाने काँग्रेसची लोकसभेच्या सहापैकी पाच जागा जिंकल्या होत्या.महाराष्ट्र विधानसभा निवडणुकीच्या पार्श्वभूमीवर पाटण्यामध्ये महाविकास आघाडीची बैठक झाली होती पण त्याच्या परवाचा पुढचा टप्पा बेंगलोर मध्ये होणार आहे.लोकसभा निवडणुकीत भाजपने अजितदाद यांच्याविरोधात बहुमत सिद्ध केलं आहे पण ही भूमिका पूर्णपणे उलटली आहे.कर्नाटक विधानसभा निवडणुकीत अजित दाद यांनी काँग्रेसमध्ये फूट पाडली आणि तिथे सरकार स्थापन केलं.मुख्यमंत्री देवेंद्र फडणवीस यांच्या उपमुख्यमंत्रिपदाची निवडणूक 2019 पासून सुरू झाली आहे तेव्हा महाराष्ट्रात भाजप बरोबर जाण्यासाठी त्यांनी काही महत्त्वाचे निर्णय घेतले आहेत.स्थानिक स्वराज्य संस्थांच्या निवडणुका घेऊन द्याव्यात महाराष्ट्राची जनता यांना धूळ चालल्याशिवाय राहणार नाही याची मला कोणतीही खात्री देता येत नाही.मुख्यमंत्री अजित चव्हाण यांच्या शासन आपल्या दारी हा अर्ज स्वीकारला गेला आहे आणि सत्ताधाऱ्यांना आवाहन करण्यात आलं आहे की आता लवकरात लैंगिक निवडणुका होऊ देत असं जनतेला वेठीस धरणे योग्य नाही.तुम्हाला माहिती आहे का?उपमुख्यमंत्री देवेंद्र फडणवीस यांनी फाशीची शासन केली आहे.मुख्यमंत्री उद्धव ठाकरे यांच्या उपस्थितीत आशिष जी मी बोला यांचा दारी हा कार्यक्रम राबवण्यात आला.महाराष्ट्र नवनिर्माण सेनेचे अध्यक्ष आणि नैसर्गिक अधिकारी भाऊसाहेब आंबेडकर यांचा आज स्मृतिदिन आहे.माझे नेते सन्माननीय नरेंद्रभाई मोदी यांच्या नेतृत्वाखाली भारतीय जनता पार्टी आणि काँग्रेस या दोन्ही पक्षांमध्ये लढायचं नाही ते वेगळं सांगायचं मला गरज नाही.महाराष्ट्र विधानसभा निवडणुकांचे निकाल आता जाहीर झाले आहेत. राज्यात काय झालं ते आम्हाला माहिती आहे.महाराष्ट्र विधानसभा निवडणुकीच्या तोंडावर मी एक गोष्ट सांगतोमहाराष्ट्राचे माजी मुख्यमंत्री देवेंद्र फडणवीस यांनी शरद पवार यांना पूर्ण केलं आहे हे सांगितलं होतं.मुख्यमंत्री देवेंद्र फडणवीस यांच्या उपमुख्यमंत्रिपदाच्या अध्यक्षतेखाली महाराष्ट्र विधानसभा निवडणुकीच्या निमित्तानं एक महत्त्वाचा निर्णय घेण्यात आला आहे.मुख्यमंत्री उद्धव ठाकरे यांच्या नेतृत्वाखाली महाराष्ट्रातल्या 'महाविकास आघाडी' योजनेच्या अंमलबजावणीचा गांभीर्य आणखी काही पटीने वाढला आहे.माझ्याकडे आतापर्यंत 10 ते 12 शासन आपल्या दारी चे लाईव्ह आउटपुट दिले गेले आहेत त्याच्यावरती राजकीय भाषण होत असतील का?महाराष्ट्राचे माजी मुख्यमंत्री देवेंद्र फडणवीस यांनी ब्युरोक्रसी च्या टच मध्ये प्रचार केला.अजितदादा पवार यांना फोडण्याची गरज का पडली?सर न्यायाधीश धनंजय चंद्रचूड यांच्यावर प्रचंड आदर आहे आणि त्यांच्याविषयी मला खूप फॉलो करतोयमहाराष्ट्र विधानसभा निवडणुकीचा निकाल जाहीर झाला तेव्हा मुख्यमंत्री देवेंद्र फडणवीस यांनी मुंबई आणि औरंगाबाद महापालिकेवर दोन वर्षे झाले प्रशासकीय कार्यभार स्वीकारले आहेत.\""
            ],
            "application/vnd.google.colaboratory.intrinsic+json": {
              "type": "string"
            }
          },
          "metadata": {},
          "execution_count": 14
        }
      ]
    },
    {
      "cell_type": "code",
      "source": [],
      "metadata": {
        "id": "pfIHQTISYLbD"
      },
      "execution_count": null,
      "outputs": []
    },
    {
      "cell_type": "markdown",
      "source": [
        "Second Approch\n",
        "\n",
        "Using facebook bart model for summarization\n",
        "To use this model we need english text so i convert text into english language and then suumarize text and again i convert summarize english text into the marathi text."
      ],
      "metadata": {
        "id": "kQTbRSW26tLb"
      }
    },
    {
      "cell_type": "code",
      "source": [
        "# Install required package\n",
        "! pip install googletrans==4.0.0rc1"
      ],
      "metadata": {
        "colab": {
          "base_uri": "https://localhost:8080/",
          "height": 949
        },
        "id": "ce1EE8f2R2zo",
        "outputId": "7b8f6a10-34f7-4dcc-8f61-2c463c68e16e"
      },
      "execution_count": null,
      "outputs": [
        {
          "output_type": "stream",
          "name": "stdout",
          "text": [
            "Collecting googletrans==4.0.0rc1\n",
            "  Downloading googletrans-4.0.0rc1.tar.gz (20 kB)\n",
            "  Preparing metadata (setup.py) ... \u001b[?25l\u001b[?25hdone\n",
            "Collecting httpx==0.13.3 (from googletrans==4.0.0rc1)\n",
            "  Downloading httpx-0.13.3-py3-none-any.whl (55 kB)\n",
            "\u001b[2K     \u001b[90m━━━━━━━━━━━━━━━━━━━━━━━━━━━━━━━━━━━━━━━━\u001b[0m \u001b[32m55.1/55.1 kB\u001b[0m \u001b[31m2.4 MB/s\u001b[0m eta \u001b[36m0:00:00\u001b[0m\n",
            "\u001b[?25hRequirement already satisfied: certifi in /usr/local/lib/python3.10/dist-packages (from httpx==0.13.3->googletrans==4.0.0rc1) (2023.7.22)\n",
            "Collecting hstspreload (from httpx==0.13.3->googletrans==4.0.0rc1)\n",
            "  Downloading hstspreload-2023.1.1-py3-none-any.whl (1.5 MB)\n",
            "\u001b[2K     \u001b[90m━━━━━━━━━━━━━━━━━━━━━━━━━━━━━━━━━━━━━━━━\u001b[0m \u001b[32m1.5/1.5 MB\u001b[0m \u001b[31m9.7 MB/s\u001b[0m eta \u001b[36m0:00:00\u001b[0m\n",
            "\u001b[?25hRequirement already satisfied: sniffio in /usr/local/lib/python3.10/dist-packages (from httpx==0.13.3->googletrans==4.0.0rc1) (1.3.0)\n",
            "Collecting chardet==3.* (from httpx==0.13.3->googletrans==4.0.0rc1)\n",
            "  Downloading chardet-3.0.4-py2.py3-none-any.whl (133 kB)\n",
            "\u001b[2K     \u001b[90m━━━━━━━━━━━━━━━━━━━━━━━━━━━━━━━━━━━━━━\u001b[0m \u001b[32m133.4/133.4 kB\u001b[0m \u001b[31m12.3 MB/s\u001b[0m eta \u001b[36m0:00:00\u001b[0m\n",
            "\u001b[?25hCollecting idna==2.* (from httpx==0.13.3->googletrans==4.0.0rc1)\n",
            "  Downloading idna-2.10-py2.py3-none-any.whl (58 kB)\n",
            "\u001b[2K     \u001b[90m━━━━━━━━━━━━━━━━━━━━━━━━━━━━━━━━━━━━━━━━\u001b[0m \u001b[32m58.8/58.8 kB\u001b[0m \u001b[31m7.5 MB/s\u001b[0m eta \u001b[36m0:00:00\u001b[0m\n",
            "\u001b[?25hCollecting rfc3986<2,>=1.3 (from httpx==0.13.3->googletrans==4.0.0rc1)\n",
            "  Downloading rfc3986-1.5.0-py2.py3-none-any.whl (31 kB)\n",
            "Collecting httpcore==0.9.* (from httpx==0.13.3->googletrans==4.0.0rc1)\n",
            "  Downloading httpcore-0.9.1-py3-none-any.whl (42 kB)\n",
            "\u001b[2K     \u001b[90m━━━━━━━━━━━━━━━━━━━━━━━━━━━━━━━━━━━━━━━━\u001b[0m \u001b[32m42.6/42.6 kB\u001b[0m \u001b[31m5.5 MB/s\u001b[0m eta \u001b[36m0:00:00\u001b[0m\n",
            "\u001b[?25hCollecting h11<0.10,>=0.8 (from httpcore==0.9.*->httpx==0.13.3->googletrans==4.0.0rc1)\n",
            "  Downloading h11-0.9.0-py2.py3-none-any.whl (53 kB)\n",
            "\u001b[2K     \u001b[90m━━━━━━━━━━━━━━━━━━━━━━━━━━━━━━━━━━━━━━━━\u001b[0m \u001b[32m53.6/53.6 kB\u001b[0m \u001b[31m6.6 MB/s\u001b[0m eta \u001b[36m0:00:00\u001b[0m\n",
            "\u001b[?25hCollecting h2==3.* (from httpcore==0.9.*->httpx==0.13.3->googletrans==4.0.0rc1)\n",
            "  Downloading h2-3.2.0-py2.py3-none-any.whl (65 kB)\n",
            "\u001b[2K     \u001b[90m━━━━━━━━━━━━━━━━━━━━━━━━━━━━━━━━━━━━━━━━\u001b[0m \u001b[32m65.0/65.0 kB\u001b[0m \u001b[31m7.9 MB/s\u001b[0m eta \u001b[36m0:00:00\u001b[0m\n",
            "\u001b[?25hCollecting hyperframe<6,>=5.2.0 (from h2==3.*->httpcore==0.9.*->httpx==0.13.3->googletrans==4.0.0rc1)\n",
            "  Downloading hyperframe-5.2.0-py2.py3-none-any.whl (12 kB)\n",
            "Collecting hpack<4,>=3.0 (from h2==3.*->httpcore==0.9.*->httpx==0.13.3->googletrans==4.0.0rc1)\n",
            "  Downloading hpack-3.0.0-py2.py3-none-any.whl (38 kB)\n",
            "Building wheels for collected packages: googletrans\n",
            "  Building wheel for googletrans (setup.py) ... \u001b[?25l\u001b[?25hdone\n",
            "  Created wheel for googletrans: filename=googletrans-4.0.0rc1-py3-none-any.whl size=17396 sha256=3e387cd66171bd58c62ad14db7cb2a3e97493887bdf2930c0e6af2ae85ed3e5b\n",
            "  Stored in directory: /root/.cache/pip/wheels/c0/59/9f/7372f0cf70160fe61b528532e1a7c8498c4becd6bcffb022de\n",
            "Successfully built googletrans\n",
            "Installing collected packages: rfc3986, hyperframe, hpack, h11, chardet, idna, hstspreload, h2, httpcore, httpx, googletrans\n",
            "  Attempting uninstall: chardet\n",
            "    Found existing installation: chardet 5.2.0\n",
            "    Uninstalling chardet-5.2.0:\n",
            "      Successfully uninstalled chardet-5.2.0\n",
            "  Attempting uninstall: idna\n",
            "    Found existing installation: idna 3.4\n",
            "    Uninstalling idna-3.4:\n",
            "      Successfully uninstalled idna-3.4\n",
            "Successfully installed chardet-3.0.4 googletrans-4.0.0rc1 h11-0.9.0 h2-3.2.0 hpack-3.0.0 hstspreload-2023.1.1 httpcore-0.9.1 httpx-0.13.3 hyperframe-5.2.0 idna-2.10 rfc3986-1.5.0\n"
          ]
        },
        {
          "output_type": "display_data",
          "data": {
            "application/vnd.colab-display-data+json": {
              "pip_warning": {
                "packages": [
                  "chardet",
                  "idna"
                ]
              }
            }
          },
          "metadata": {}
        }
      ]
    },
    {
      "cell_type": "code",
      "source": [
        "# Import necessary libraries and use facebbok bart model for summarization\n",
        "from transformers import pipeline\n",
        "\n",
        "summarizer = pipeline(\"summarization\", model=\"facebook/bart-large-cnn\")\n"
      ],
      "metadata": {
        "colab": {
          "base_uri": "https://localhost:8080/",
          "height": 209,
          "referenced_widgets": [
            "ec988f4192844d308688a1c2b39c267e",
            "f3b280dd360b4d2589328482dbddd759",
            "92e0d6dc38064ecdbdfd489b386b3540",
            "5619ece98ce54423918e04f36148fe76",
            "1204543838d44747988d45b4390b9397",
            "c89dfba1b4e141428b6cfb088038280f",
            "82d483ee1d39493c87436c8252916d2d",
            "223234c91a9645c18db9a9f4df36c097",
            "533b49faf5764107949dd6cdb7ac32d1",
            "54dade06dbc24307929431a0f13f75f4",
            "7190c9f9bd0a403d831520ba0e681754",
            "8223a55c1aa349aba0e0c58ffc135556",
            "3642948a65ae4e26a0a5141211b4c4a1",
            "d63812ccd48c4f18b69ca7dcb8db2f36",
            "7fe43657b820408d8398b97c6b8d9e3f",
            "d3be69eb5760455e98edc70f1debd1ad",
            "51fa3f381f3a42618437854ff3594b7d",
            "a03d8fc58e664f20b69df2e16890cbd7",
            "e7e39ceeed9e4d299cba13dd97fe602c",
            "d4dff028fd414b388b534a7699760c6b",
            "fbb209035b424eef986cb5f703483d58",
            "8220ed3c1df647f28b39487b9a5bd3ab",
            "30264e43395547df851d448a418f999b",
            "f653beb2026e45b4b1d665b30a920c03",
            "2b4e4f28115a40cea6952c99bb2dc22e",
            "35cc628baa6c41e38ee4ffa9fb017e77",
            "a34b8b7ff2c642e3b70e820640d66b90",
            "75dae8f4d888419cb8c425fc8cb30fe9",
            "c92f2274649745e1af5e3347218ef87c",
            "21ccfbf8aba441b0bfce5064dc82647a",
            "fcaa68eb70a84aadb80498b888184a41",
            "30f62b5286bc4fa99bfb660f6157040d",
            "971911456c2b4bd194a1a7212ced86ea",
            "23965e070d374207a525f6f7f363da24",
            "658a0f5f131e488d83774216908a71bc",
            "3f268fbbd3f04ab2a1d7d3557a050b94",
            "f57abb0fc4bc426c9779d09bc40f5b10",
            "2483c427764342faac31d36f6bfe50c0",
            "c2738e6b7cac4403918d06af91c5d014",
            "88b75eedcf904a78961aef43154f7202",
            "dbdc611996a647ba80e8009b4b60eef1",
            "9c1e022a712b4050bb5ff09b58a18dc6",
            "1fb0352ec9544854a980995bffb34601",
            "5e2195f80ef84a52aa9d83242d4c33a2",
            "56c32802a72f48f59357b1f49d088879",
            "9525f63d75104525bc7be96c4c8bb630",
            "f6ea913c62f14b0f8e4fb4574f381710",
            "7f8e193f916d4b8fb80bdb5d90d1c8f0",
            "e1388eca75754d678c004f77e231c388",
            "e04fb50381ab441780868a3365095321",
            "f4839ee8c31542d2bdd33039ef39b96c",
            "21c61a50ef9240328cab0c18310c5e28",
            "3743d1ea2474491ea8176e1203f116bb",
            "9745c7688c6a46d281bea82585267986",
            "e907123f2a944ca1a284f1ee4d85ba14",
            "a65002cce2e948858b0f1240e01d2812",
            "30ec9ecc0a5a4eb3b79d0b2a424f26b7",
            "250d3edf5c984d62be8b86838d8f8daa",
            "a267256631234c4b99839d16a73eb256",
            "28a84498305047009840ad0813540197",
            "64302555eeeb4a64a625e8b901d41ab9",
            "60b0365c6d05427b9d3fd8ec9406f3ce",
            "f24de75e99df4dc5b71838d98c8325e2",
            "df6de913717b4b5993ff4d5b0fe01a08",
            "26b3d1a343df40388cf0885a557c326b",
            "cd1233228c934b86b70ff097193f3c0b"
          ]
        },
        "id": "M5fsIGOHRq2A",
        "outputId": "929d147e-aa27-4eb4-fb24-c3c4f1b25867"
      },
      "execution_count": null,
      "outputs": [
        {
          "output_type": "display_data",
          "data": {
            "text/plain": [
              "Downloading (…)lve/main/config.json:   0%|          | 0.00/1.58k [00:00<?, ?B/s]"
            ],
            "application/vnd.jupyter.widget-view+json": {
              "version_major": 2,
              "version_minor": 0,
              "model_id": "ec988f4192844d308688a1c2b39c267e"
            }
          },
          "metadata": {}
        },
        {
          "output_type": "display_data",
          "data": {
            "text/plain": [
              "Downloading pytorch_model.bin:   0%|          | 0.00/1.63G [00:00<?, ?B/s]"
            ],
            "application/vnd.jupyter.widget-view+json": {
              "version_major": 2,
              "version_minor": 0,
              "model_id": "8223a55c1aa349aba0e0c58ffc135556"
            }
          },
          "metadata": {}
        },
        {
          "output_type": "display_data",
          "data": {
            "text/plain": [
              "Downloading (…)neration_config.json:   0%|          | 0.00/363 [00:00<?, ?B/s]"
            ],
            "application/vnd.jupyter.widget-view+json": {
              "version_major": 2,
              "version_minor": 0,
              "model_id": "30264e43395547df851d448a418f999b"
            }
          },
          "metadata": {}
        },
        {
          "output_type": "display_data",
          "data": {
            "text/plain": [
              "Downloading (…)olve/main/vocab.json:   0%|          | 0.00/899k [00:00<?, ?B/s]"
            ],
            "application/vnd.jupyter.widget-view+json": {
              "version_major": 2,
              "version_minor": 0,
              "model_id": "23965e070d374207a525f6f7f363da24"
            }
          },
          "metadata": {}
        },
        {
          "output_type": "display_data",
          "data": {
            "text/plain": [
              "Downloading (…)olve/main/merges.txt:   0%|          | 0.00/456k [00:00<?, ?B/s]"
            ],
            "application/vnd.jupyter.widget-view+json": {
              "version_major": 2,
              "version_minor": 0,
              "model_id": "56c32802a72f48f59357b1f49d088879"
            }
          },
          "metadata": {}
        },
        {
          "output_type": "display_data",
          "data": {
            "text/plain": [
              "Downloading (…)/main/tokenizer.json:   0%|          | 0.00/1.36M [00:00<?, ?B/s]"
            ],
            "application/vnd.jupyter.widget-view+json": {
              "version_major": 2,
              "version_minor": 0,
              "model_id": "a65002cce2e948858b0f1240e01d2812"
            }
          },
          "metadata": {}
        }
      ]
    },
    {
      "cell_type": "code",
      "source": [
        "from googletrans import Translator"
      ],
      "metadata": {
        "id": "SDU-dmYQCumx"
      },
      "execution_count": null,
      "outputs": []
    },
    {
      "cell_type": "code",
      "source": [
        "#Create empty list\n",
        "text_list=[]\n",
        "summary_list=[]\n",
        "\n",
        "# Create a recognizer instance for speech recognition\n",
        "recognizer = sr.Recognizer()\n",
        "\n",
        "# Create a translator instance\n",
        "translator = Translator()\n",
        "\n",
        "# Loop through lines and process audio for summarization\n",
        "for lines in range(0,120,5):\n",
        "  for i in range(lines,lines+5):\n",
        "    i=str(i)\n",
        "    for j in os.listdir(\"/content/chunk_wav_files\"):\n",
        "        k=(j.split(\"_\")[1]).split(\".\")[0]\n",
        "        if i == k:\n",
        "          with sr.AudioFile(\"/content/chunk_wav_files/\"+str(j)) as source:\n",
        "              audio = recognizer.record(source)  # Record the entire audio file\n",
        "          try:\n",
        "              # Recognize the speech using Google Web Speech API\n",
        "              text = recognizer.recognize_google(audio,language=\"mr-IN\")\n",
        "\n",
        "              # Translate the text to English\n",
        "              translated = translator.translate(text,src='mr', dest='en')\n",
        "              text_list.append(translated.text)\n",
        "          except Exception as e:\n",
        "              print(e)\n",
        "  # Combine all English text into a single string\n",
        "  english_text=\"\".join(text_list)\n",
        "  # Summarize the English text\n",
        "  summarize_text=summarizer(english_text, max_length=130, min_length=30, do_sample=False)\n",
        "\n",
        "  # Translate the summarized English text back to Marathi\n",
        "  translated = translator.translate(summarize_text[0]['summary_text'],src='en', dest='mr')\n",
        "  summary_list.append(translated.text)\n",
        "  print(\"***********\")\n",
        "  text_list.clear()\n",
        "\n",
        "# Combine all Marathi summaries into a single text\n",
        "marathi_text=\"\".join(summary_list)\n",
        "print(\"done\")"
      ],
      "metadata": {
        "id": "xwJNlKCYYLiW",
        "colab": {
          "base_uri": "https://localhost:8080/"
        },
        "outputId": "58277c8b-d2d1-4f31-cc35-7cda6036f82e"
      },
      "execution_count": null,
      "outputs": [
        {
          "output_type": "stream",
          "name": "stdout",
          "text": [
            "***********\n",
            "***********\n",
            "***********\n",
            "***********\n",
            "***********\n",
            "***********\n",
            "***********\n",
            "***********\n",
            "***********\n",
            "***********\n",
            "***********\n",
            "***********\n",
            "***********\n",
            "***********\n",
            "***********\n",
            "***********\n",
            "\n",
            "***********\n",
            "***********\n",
            "***********\n",
            "***********\n",
            "***********\n",
            "***********\n"
          ]
        },
        {
          "output_type": "stream",
          "name": "stderr",
          "text": [
            "Your max_length is set to 130, but your input_length is only 3. Since this is a summarization task, where outputs shorter than the input are typically wanted, you might consider decreasing max_length manually, e.g. summarizer('...', max_length=1)\n"
          ]
        },
        {
          "output_type": "stream",
          "name": "stdout",
          "text": [
            "***********\n",
            "***********\n",
            "done\n"
          ]
        }
      ]
    },
    {
      "cell_type": "code",
      "source": [
        "# Print the Marathi summarized text\n",
        "marathi_text"
      ],
      "metadata": {
        "colab": {
          "base_uri": "https://localhost:8080/",
          "height": 573
        },
        "id": "XzzeKCg_UAAe",
        "outputId": "264ac07b-f896-4fc4-cd0f-08165a9409b4"
      },
      "execution_count": null,
      "outputs": [
        {
          "output_type": "execute_result",
          "data": {
            "text/plain": [
              "'आशिष जाधव: अजित पवार यांनी दिवसाची शपथ किंवा दिवस घेतला आहे.अद्याप खाते वाटपाचा कोणताही पत्ता नाही.काही एनसीपी मंत्री एनसीपीच्या कोट्यावर परत येतील, परंतु चर्चा चालू आहे.पवार साहेब यांच्या पक्षाच्या नेतृत्वात हा निर्णय तीन वेळा निर्णय घेण्यापूर्वी आणि नंतर तीन वेळा पक्षात घेण्यात आला आहे.जर आपण हे पुन्हा पुन्हा पुन्हा ठरविले तर अजित पवार महाराष्ट्रातील लोकांच्या दृष्टीने न्याय्य ठरले आहेत.सकाळी सहा वाजल्यापासून दुपारी 12:00 ते दुपारी 12 वाजता अजित वडिलांना इतरांना न विचारता इतरांना दिले जात नाही.आम्हाला हे मान्य करावेच लागेल की आमदारांनी काहीतरी दिले तेव्हा अजित दादाला काहीतरी दिले गेले होते.शरद पवारसमोर भूषण राऊतचा एक पर्याय आहे.पक्षाने त्यांना कधीही कमी पडू दिले नाही.निर्णयामध्ये कोणताही महत्त्वाचा निर्णय -वडिलांच्या संमतीशिवाय घेण्यात आला नाही.जर महाविकांनी एकत्र लढाई केली असती तर राज्याचे सर्वोच्च पद वडिलांना देण्यात आले.अजित दादाने शपथविधी घेतल्यानंतर अजित वडिलांना महाराष्ट्रात खलनायक घोषित करण्यात आले.मोहोल तालुकामध्ये राजन पाटीलचे कार्यकर्ते आणि त्यांच्या कवींनी अजित पवारचा निषेध केला होता.देशाच्या पंतप्रधानांच्या अधिकारात आज हा शब्द देण्यात आला की गृहमंत्र्यांना हा शब्द देण्यात आला.अजित पवार ही एकमेव गोष्ट आहे जी कर्ना आहे आणि अजित दादा किंवा प्रीफुल भाई पटेल किंवा तरीही तत्कारे साहेब.महाराष्ट्रातील कामगारांची जबाबदारी नव्हती की हा सर्व निर्णय घेण्यात आला होता.अजित पवारांची ज्येष्ठता त्या बैठकीच्या पत्रात ठेवली गेली नव्हती आणि ती अक्षरशः टेबलावर बोलली गेली.जर पवारला हिरवा सिग्नल नसल्याचे ग्रीन सिग्नल नसेल तर शरद पवार ऐका.आज, उद्या, पत्रकारांना फसवले गेले.अजित दादा पवार म्हणतात, मतदारसंघाला मतदार संघात काम दर्शवावे लागते.एनसीपीच्या उपद्रव न घेता सरकार मजबूत नाही, असे ते म्हणतात.आशिष राव आपल्याबरोबर राजकारणात एक नवीन साथीदार घेऊन येत आहे.सर्वात मोठ्या पक्षांना महाराष्ट्रात सहवास घ्यावा लागतो.जर आपल्याकडे असे म्हणण्याचे धैर्य असेल की त्यांचे स्वतःचे स्ट्राइक रेट मोठे आहे आणि इतर पक्षांचे धाडस आहे.राजीव चावन: \"आम्ही देशात सत्तेत आहोत. आम्ही खूप मजबूत परिस्थितीत लोकांची सेवा करतो\" \"उत्तर देणे हे आपले काम आहे हे ब्रेकिंग न्यूजची बाब आहे\" \"तुम्ही आता भारताच्या बाहेर भारताचे नेतृत्व करीत आहात\"भाजपने शिव कुमारला एक उत्तम ऑफर दिली आहे की आपली सर्व प्रकरणे हे करतील आणि हे करतील.आपण मुख्यमंत्री बनवाल.आम्हाला हे पहायचे आहे की आरसीबी सेमीकंडक्टरचा मोठा प्रकल्प कसा फायदा होत आहे.गांधी स्वत: पवार साहेबला भेटायला गेले आणि त्यांना अशा मार्गाने पाठिंबा दिला.जर कॉंग्रेसने कॉंग्रेसमध्ये सातत्याने भूमिका बजावली असेल तर भाजपा ही भाजपा विरोधी विचारसरणी आहे.अजित दादा बहुतेक कॉंग्रेसमध्ये भाजपात आहेत, असे ते म्हणतात.मंत्री आपल्या पार्टीला कसे देतात हे त्यांच्या आवडत्या छंदांपैकी एक आहे, असे ते पुढे म्हणतात.पाटीलचे नाव तसेच पवार साहेबच्या नावावर होते.योगेश पाटीलला आज सत्याग्रह खूप चांगला वाटेल पण उद्या तुम्हाला भाजपाला उत्तर द्यावे लागेल हे विसरू नका.मागील निवडणुकीत नकारात्मक वातावरण असूनही मोदींनी मागील वेळेपेक्षाही जास्त प्राधान्य दिले आहे.भारतीय जनता पक्षाचे नरेंद्र मोदी साहेब हे पंतप्रधानांचे एकमेव उमेदवार आहेत.निवडून आलेल्या सर्व आमदारांना मतदारसंघाच्या विकासाच्या कार्यासाठी पुढे ढकलण्यात आले.विरोधी पक्षनेतेही सत्ताधारी पक्षात मंत्री झाले आहेत.मी प्रत्येकामध्ये कधीही पाहिले नाही आणि जर मी कोणालाही त्रास दिला नाही तर विषय महत्त्वाचा नाही.आपल्या आमदारांना अशी मागणी आहे की अजित पवारांनी आम्हाला आर्थिक खाती देऊ नये.आमच्या काही लोकांना पुन्हा खात्यासाठी खाते द्यावे लागेल.सर्वात कमकुवत तिसरा भिदू सर्वात शक्तिशाली महाविकांचा पहिला व्हिडिओ होता.शिवसेनाचा मुख्य हेतू होता की त्या उद्देशाने जाणे हा होता.आणि आता तिला पूर्णपणे क्रमिकपणे पाहण्यासाठी माझ्याकडे कोणताही पक्ष नाही.कॉंग्रेस लोकसभेने या सहा जागांपैकी पाच जागा जिंकल्या आणि मुंबईतील Session 36 पैकी १ by ने एनसीपीला १ by ने विजय मिळविला.या संदर्भात अजित पवार भाजपाकडे नेले गेले आहे.आशिष जी: शिव सेना उधव ठाकरे आणि पवार साहेबचा एनसीपी एक आठवडा वाटू शकतो परंतु ते ऑक्सिडंट नव्हते.जर भाजपाने तातडीने स्थानिक स्वराज्य संस्थांच्या निवडणुका दोन किंवा तीन महिन्यांत घ्याव्यात तर मी राहू शकणार नाही.फडनाविस आम्हाला बर्\\u200dयाच निवडणुकांचा सामना करावा लागतो आणि भौसहेबच्या मोठ्या धक्क्यासाठी तयार राहू.येत्या काही दिवसांत आम्ही माझ्या नेत्यांच्या हाती असलेल्या लोकांचे कार्य करण्यासाठी एकत्र आलो आहोत.संपादक म्हणून मला सरकारी कार्यक्रमात काय राजकीय आहे याबद्दल विचारण्याचा अधिकार नाही.हे चांगले आहे की ही योजना चांगली आहे म्हणून चांगली आहे, परंतु जर त्या कार्यक्रमांमध्ये राजकीय भाषणे होत असतील तर त्या ठिकाणी एक पत्रकार आहे.आतापर्यंत सर्व दुवे मला दिले गेले आहेत 10 ते 12 सरकारांनी आपल्या दाराचे थेट उत्पादन दिले आहे.माझे स्वतःचे मत आहे की तो राम शास्त्री बाणाच्या पलीकडे आहे आणि म्हणून आम्ही आज त्याच्या मतानुसार चर्चा करण्याचा प्रयत्न केला आहे.निवडणूक लवकरच आयोजित केली जावी कारण प्रशासकांच्या हाती स्थानिक स्वराज्य संस्थांमधील सर्व कारभार.सीएनएन डॉट कॉम साप्ताहिक ट्रॅव्हल स्नॅपशॉट्स गॅलरीमध्ये आयरेपोर्टर फोटो दर्शवेल.कृपया पुढील आठवड्यात न्यूयॉर्कचे आपले सर्वोत्तम शॉट्स सबमिट करा.स्नॅपशॉट्सच्या नवीन गॅलरीसाठी पुढील बुधवारी सीएनएन.कॉम/ट्रॅव्हलला भेट द्या.'"
            ],
            "application/vnd.google.colaboratory.intrinsic+json": {
              "type": "string"
            }
          },
          "metadata": {},
          "execution_count": 25
        }
      ]
    },
    {
      "cell_type": "code",
      "source": [
        "len(marathi_text)"
      ],
      "metadata": {
        "colab": {
          "base_uri": "https://localhost:8080/"
        },
        "id": "UGXlv4XenhWw",
        "outputId": "a3e4edaa-2f18-482c-deb6-43e04648f027"
      },
      "execution_count": null,
      "outputs": [
        {
          "output_type": "execute_result",
          "data": {
            "text/plain": [
              "4744"
            ]
          },
          "metadata": {},
          "execution_count": 27
        }
      ]
    },
    {
      "cell_type": "code",
      "source": [
        "# Write the Marathi summarized text to a file\n",
        "with open(\"Marathi_summary.txt\",'w') as file:\n",
        "  file.write(marathi_text)\n",
        "  file.close()"
      ],
      "metadata": {
        "id": "um38N7yagWcu"
      },
      "execution_count": null,
      "outputs": []
    },
    {
      "cell_type": "code",
      "source": [],
      "metadata": {
        "id": "KvXXW1EjI1f-"
      },
      "execution_count": null,
      "outputs": []
    },
    {
      "cell_type": "code",
      "source": [],
      "metadata": {
        "id": "QOqvdXDDOtdg"
      },
      "execution_count": null,
      "outputs": []
    }
  ]
}